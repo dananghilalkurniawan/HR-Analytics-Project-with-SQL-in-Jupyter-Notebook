{
 "cells": [
  {
   "cell_type": "markdown",
   "id": "71c80c6f-7042-4283-91fe-3a982be95762",
   "metadata": {
    "jp-MarkdownHeadingCollapsed": true
   },
   "source": [
    "# Instalasi Library"
   ]
  },
  {
   "cell_type": "code",
   "execution_count": 2,
   "id": "5f9c508b-bef2-49e9-8a42-cd0bec1027ad",
   "metadata": {},
   "outputs": [
    {
     "name": "stdout",
     "output_type": "stream",
     "text": [
      "Collecting ipython-sql\n",
      "  Using cached ipython_sql-0.5.0-py3-none-any.whl.metadata (17 kB)\n",
      "Requirement already satisfied: pandas in ./.pyenv/versions/3.11.6/lib/python3.11/site-packages (2.3.0)\n",
      "Collecting sqlalchemy\n",
      "  Downloading sqlalchemy-2.0.41-cp311-cp311-macosx_11_0_arm64.whl.metadata (9.6 kB)\n",
      "Collecting prettytable (from ipython-sql)\n",
      "  Downloading prettytable-3.16.0-py3-none-any.whl.metadata (33 kB)\n",
      "Collecting ipython (from ipython-sql)\n",
      "  Downloading ipython-9.3.0-py3-none-any.whl.metadata (4.4 kB)\n",
      "Collecting sqlparse (from ipython-sql)\n",
      "  Downloading sqlparse-0.5.3-py3-none-any.whl.metadata (3.9 kB)\n",
      "Requirement already satisfied: six in ./.pyenv/versions/3.11.6/lib/python3.11/site-packages (from ipython-sql) (1.17.0)\n",
      "Collecting ipython-genutils (from ipython-sql)\n",
      "  Using cached ipython_genutils-0.2.0-py2.py3-none-any.whl.metadata (755 bytes)\n",
      "Requirement already satisfied: numpy>=1.23.2 in ./.pyenv/versions/3.11.6/lib/python3.11/site-packages (from pandas) (2.1.3)\n",
      "Requirement already satisfied: python-dateutil>=2.8.2 in ./.pyenv/versions/3.11.6/lib/python3.11/site-packages (from pandas) (2.9.0.post0)\n",
      "Requirement already satisfied: pytz>=2020.1 in ./.pyenv/versions/3.11.6/lib/python3.11/site-packages (from pandas) (2025.2)\n",
      "Requirement already satisfied: tzdata>=2022.7 in ./.pyenv/versions/3.11.6/lib/python3.11/site-packages (from pandas) (2025.2)\n",
      "Requirement already satisfied: typing-extensions>=4.6.0 in ./.pyenv/versions/3.11.6/lib/python3.11/site-packages (from sqlalchemy) (4.14.0)\n",
      "Collecting decorator (from ipython->ipython-sql)\n",
      "  Downloading decorator-5.2.1-py3-none-any.whl.metadata (3.9 kB)\n",
      "Collecting ipython-pygments-lexers (from ipython->ipython-sql)\n",
      "  Downloading ipython_pygments_lexers-1.1.1-py3-none-any.whl.metadata (1.1 kB)\n",
      "Collecting jedi>=0.16 (from ipython->ipython-sql)\n",
      "  Downloading jedi-0.19.2-py2.py3-none-any.whl.metadata (22 kB)\n",
      "Collecting matplotlib-inline (from ipython->ipython-sql)\n",
      "  Using cached matplotlib_inline-0.1.7-py3-none-any.whl.metadata (3.9 kB)\n",
      "Collecting pexpect>4.3 (from ipython->ipython-sql)\n",
      "  Using cached pexpect-4.9.0-py2.py3-none-any.whl.metadata (2.5 kB)\n",
      "Collecting prompt_toolkit<3.1.0,>=3.0.41 (from ipython->ipython-sql)\n",
      "  Downloading prompt_toolkit-3.0.51-py3-none-any.whl.metadata (6.4 kB)\n",
      "Requirement already satisfied: pygments>=2.4.0 in ./.pyenv/versions/3.11.6/lib/python3.11/site-packages (from ipython->ipython-sql) (2.19.1)\n",
      "Collecting stack_data (from ipython->ipython-sql)\n",
      "  Using cached stack_data-0.6.3-py3-none-any.whl.metadata (18 kB)\n",
      "Collecting traitlets>=5.13.0 (from ipython->ipython-sql)\n",
      "  Using cached traitlets-5.14.3-py3-none-any.whl.metadata (10 kB)\n",
      "Collecting wcwidth (from prettytable->ipython-sql)\n",
      "  Using cached wcwidth-0.2.13-py2.py3-none-any.whl.metadata (14 kB)\n",
      "Collecting parso<0.9.0,>=0.8.4 (from jedi>=0.16->ipython->ipython-sql)\n",
      "  Using cached parso-0.8.4-py2.py3-none-any.whl.metadata (7.7 kB)\n",
      "Collecting ptyprocess>=0.5 (from pexpect>4.3->ipython->ipython-sql)\n",
      "  Using cached ptyprocess-0.7.0-py2.py3-none-any.whl.metadata (1.3 kB)\n",
      "Collecting executing>=1.2.0 (from stack_data->ipython->ipython-sql)\n",
      "  Downloading executing-2.2.0-py2.py3-none-any.whl.metadata (8.9 kB)\n",
      "Collecting asttokens>=2.1.0 (from stack_data->ipython->ipython-sql)\n",
      "  Downloading asttokens-3.0.0-py3-none-any.whl.metadata (4.7 kB)\n",
      "Collecting pure-eval (from stack_data->ipython->ipython-sql)\n",
      "  Downloading pure_eval-0.2.3-py3-none-any.whl.metadata (6.3 kB)\n",
      "Using cached ipython_sql-0.5.0-py3-none-any.whl (20 kB)\n",
      "Downloading sqlalchemy-2.0.41-cp311-cp311-macosx_11_0_arm64.whl (2.1 MB)\n",
      "\u001b[2K   \u001b[90m━━━━━━━━━━━━━━━━━━━━━━━━━━━━━━━━━━━━━━━━\u001b[0m \u001b[32m2.1/2.1 MB\u001b[0m \u001b[31m5.7 MB/s\u001b[0m eta \u001b[36m0:00:00\u001b[0ma \u001b[36m0:00:01\u001b[0m\n",
      "\u001b[?25hDownloading ipython-9.3.0-py3-none-any.whl (605 kB)\n",
      "\u001b[2K   \u001b[90m━━━━━━━━━━━━━━━━━━━━━━━━━━━━━━━━━━━━━━━━\u001b[0m \u001b[32m605.3/605.3 kB\u001b[0m \u001b[31m7.4 MB/s\u001b[0m eta \u001b[36m0:00:00\u001b[0m\n",
      "\u001b[?25hUsing cached ipython_genutils-0.2.0-py2.py3-none-any.whl (26 kB)\n",
      "Downloading prettytable-3.16.0-py3-none-any.whl (33 kB)\n",
      "Downloading sqlparse-0.5.3-py3-none-any.whl (44 kB)\n",
      "Downloading jedi-0.19.2-py2.py3-none-any.whl (1.6 MB)\n",
      "\u001b[2K   \u001b[90m━━━━━━━━━━━━━━━━━━━━━━━━━━━━━━━━━━━━━━━━\u001b[0m \u001b[32m1.6/1.6 MB\u001b[0m \u001b[31m6.9 MB/s\u001b[0m eta \u001b[36m0:00:00\u001b[0ma \u001b[36m0:00:01\u001b[0m\n",
      "\u001b[?25hUsing cached pexpect-4.9.0-py2.py3-none-any.whl (63 kB)\n",
      "Downloading prompt_toolkit-3.0.51-py3-none-any.whl (387 kB)\n",
      "Using cached traitlets-5.14.3-py3-none-any.whl (85 kB)\n",
      "Downloading decorator-5.2.1-py3-none-any.whl (9.2 kB)\n",
      "Downloading ipython_pygments_lexers-1.1.1-py3-none-any.whl (8.1 kB)\n",
      "Using cached matplotlib_inline-0.1.7-py3-none-any.whl (9.9 kB)\n",
      "Using cached stack_data-0.6.3-py3-none-any.whl (24 kB)\n",
      "Using cached wcwidth-0.2.13-py2.py3-none-any.whl (34 kB)\n",
      "Downloading asttokens-3.0.0-py3-none-any.whl (26 kB)\n",
      "Downloading executing-2.2.0-py2.py3-none-any.whl (26 kB)\n",
      "Using cached parso-0.8.4-py2.py3-none-any.whl (103 kB)\n",
      "Using cached ptyprocess-0.7.0-py2.py3-none-any.whl (13 kB)\n",
      "Downloading pure_eval-0.2.3-py3-none-any.whl (11 kB)\n",
      "Installing collected packages: wcwidth, pure-eval, ptyprocess, ipython-genutils, traitlets, sqlparse, sqlalchemy, prompt_toolkit, prettytable, pexpect, parso, ipython-pygments-lexers, executing, decorator, asttokens, stack_data, matplotlib-inline, jedi, ipython, ipython-sql\n",
      "Successfully installed asttokens-3.0.0 decorator-5.2.1 executing-2.2.0 ipython-9.3.0 ipython-genutils-0.2.0 ipython-pygments-lexers-1.1.1 ipython-sql-0.5.0 jedi-0.19.2 matplotlib-inline-0.1.7 parso-0.8.4 pexpect-4.9.0 prettytable-3.16.0 prompt_toolkit-3.0.51 ptyprocess-0.7.0 pure-eval-0.2.3 sqlalchemy-2.0.41 sqlparse-0.5.3 stack_data-0.6.3 traitlets-5.14.3 wcwidth-0.2.13\n",
      "\n",
      "\u001b[1m[\u001b[0m\u001b[34;49mnotice\u001b[0m\u001b[1;39;49m]\u001b[0m\u001b[39;49m A new release of pip is available: \u001b[0m\u001b[31;49m25.0.1\u001b[0m\u001b[39;49m -> \u001b[0m\u001b[32;49m25.1.1\u001b[0m\n",
      "\u001b[1m[\u001b[0m\u001b[34;49mnotice\u001b[0m\u001b[1;39;49m]\u001b[0m\u001b[39;49m To update, run: \u001b[0m\u001b[32;49mpip install --upgrade pip\u001b[0m\n"
     ]
    }
   ],
   "source": [
    "!pip install ipython-sql pandas sqlalchemy"
   ]
  },
  {
   "cell_type": "markdown",
   "id": "aa55e437-3d8d-4ff9-a6a6-81f39c0951d2",
   "metadata": {
    "jp-MarkdownHeadingCollapsed": true
   },
   "source": [
    "# Aktifkan SQL Magic"
   ]
  },
  {
   "cell_type": "code",
   "execution_count": 1,
   "id": "934f36c5-3c0b-441a-a9ab-842c3388a06a",
   "metadata": {},
   "outputs": [],
   "source": [
    "%load_ext sql"
   ]
  },
  {
   "cell_type": "markdown",
   "id": "68869ff7-094d-4c22-81c7-7d4cea66bf23",
   "metadata": {
    "jp-MarkdownHeadingCollapsed": true
   },
   "source": [
    "# Import Library"
   ]
  },
  {
   "cell_type": "code",
   "execution_count": 3,
   "id": "c5b933fa-461a-412a-a73e-5934119e03d7",
   "metadata": {},
   "outputs": [],
   "source": [
    "import pandas as pd\n",
    "from sqlalchemy import create_engine"
   ]
  },
  {
   "cell_type": "markdown",
   "id": "6ffdb907-060e-4017-8ec1-be9930b16d85",
   "metadata": {
    "jp-MarkdownHeadingCollapsed": true
   },
   "source": [
    "# Load Dataset ke Pandas dan Masukkan ke SQLite (In-Memory atau File)"
   ]
  },
  {
   "cell_type": "code",
   "execution_count": 5,
   "id": "cd75d496-559b-4874-8b14-7f9279123c8f",
   "metadata": {},
   "outputs": [
    {
     "data": {
      "text/plain": [
       "311"
      ]
     },
     "execution_count": 5,
     "metadata": {},
     "output_type": "execute_result"
    }
   ],
   "source": [
    "# Baca file CSV\n",
    "df = pd.read_csv(\"Downloads/HRDataset_v14.csv\")\n",
    "\n",
    "# Buat koneksi SQLite database ke file `hr_database.db`\n",
    "engine = create_engine('sqlite:///hr_database.db')\n",
    "\n",
    "# Simpan DataFrame ke SQLite sebagai tabel bernama 'employees'\n",
    "df.to_sql('employees', con=engine, index=False, if_exists='replace')"
   ]
  },
  {
   "cell_type": "markdown",
   "id": "6b8909da-5d7a-495d-b48c-a8a09f189b8a",
   "metadata": {
    "jp-MarkdownHeadingCollapsed": true
   },
   "source": [
    "# Memanggil Data tersimpan Dalam Database"
   ]
  },
  {
   "cell_type": "code",
   "execution_count": 43,
   "id": "221d9dbf-ebb0-4a1f-9d16-910697cf4e4a",
   "metadata": {},
   "outputs": [],
   "source": [
    "%sql sqlite:///hr_database.db"
   ]
  },
  {
   "cell_type": "code",
   "execution_count": 45,
   "id": "93522a0f-6b4f-4ea1-baf3-5fbb5b7aca49",
   "metadata": {},
   "outputs": [
    {
     "name": "stdout",
     "output_type": "stream",
     "text": [
      " * sqlite:///hr_database.db\n",
      "Done.\n"
     ]
    },
    {
     "data": {
      "text/html": [
       "<table>\n",
       "    <thead>\n",
       "        <tr>\n",
       "            <th>Employee_Name</th>\n",
       "            <th>EmpID</th>\n",
       "            <th>MarriedID</th>\n",
       "            <th>MaritalStatusID</th>\n",
       "            <th>GenderID</th>\n",
       "            <th>EmpStatusID</th>\n",
       "            <th>DeptID</th>\n",
       "            <th>PerfScoreID</th>\n",
       "            <th>FromDiversityJobFairID</th>\n",
       "            <th>Salary</th>\n",
       "            <th>Termd</th>\n",
       "            <th>PositionID</th>\n",
       "            <th>Position</th>\n",
       "            <th>State</th>\n",
       "            <th>Zip</th>\n",
       "            <th>DOB</th>\n",
       "            <th>Sex</th>\n",
       "            <th>MaritalDesc</th>\n",
       "            <th>CitizenDesc</th>\n",
       "            <th>HispanicLatino</th>\n",
       "            <th>RaceDesc</th>\n",
       "            <th>DateofHire</th>\n",
       "            <th>DateofTermination</th>\n",
       "            <th>TermReason</th>\n",
       "            <th>EmploymentStatus</th>\n",
       "            <th>Department</th>\n",
       "            <th>ManagerName</th>\n",
       "            <th>ManagerID</th>\n",
       "            <th>RecruitmentSource</th>\n",
       "            <th>PerformanceScore</th>\n",
       "            <th>EngagementSurvey</th>\n",
       "            <th>EmpSatisfaction</th>\n",
       "            <th>SpecialProjectsCount</th>\n",
       "            <th>LastPerformanceReview_Date</th>\n",
       "            <th>DaysLateLast30</th>\n",
       "            <th>Absences</th>\n",
       "        </tr>\n",
       "    </thead>\n",
       "    <tbody>\n",
       "        <tr>\n",
       "            <td>Adinolfi, Wilson  K</td>\n",
       "            <td>10026</td>\n",
       "            <td>0</td>\n",
       "            <td>0</td>\n",
       "            <td>1</td>\n",
       "            <td>1</td>\n",
       "            <td>5</td>\n",
       "            <td>4</td>\n",
       "            <td>0</td>\n",
       "            <td>62506</td>\n",
       "            <td>0</td>\n",
       "            <td>19</td>\n",
       "            <td>Production Technician I</td>\n",
       "            <td>MA</td>\n",
       "            <td>1960</td>\n",
       "            <td>07/10/83</td>\n",
       "            <td>M </td>\n",
       "            <td>Single</td>\n",
       "            <td>US Citizen</td>\n",
       "            <td>No</td>\n",
       "            <td>White</td>\n",
       "            <td>7/5/2011</td>\n",
       "            <td>None</td>\n",
       "            <td>N/A-StillEmployed</td>\n",
       "            <td>Active</td>\n",
       "            <td>Production       </td>\n",
       "            <td>Michael Albert</td>\n",
       "            <td>22.0</td>\n",
       "            <td>LinkedIn</td>\n",
       "            <td>Exceeds</td>\n",
       "            <td>4.6</td>\n",
       "            <td>5</td>\n",
       "            <td>0</td>\n",
       "            <td>1/17/2019</td>\n",
       "            <td>0</td>\n",
       "            <td>1</td>\n",
       "        </tr>\n",
       "        <tr>\n",
       "            <td>Ait Sidi, Karthikeyan   </td>\n",
       "            <td>10084</td>\n",
       "            <td>1</td>\n",
       "            <td>1</td>\n",
       "            <td>1</td>\n",
       "            <td>5</td>\n",
       "            <td>3</td>\n",
       "            <td>3</td>\n",
       "            <td>0</td>\n",
       "            <td>104437</td>\n",
       "            <td>1</td>\n",
       "            <td>27</td>\n",
       "            <td>Sr. DBA</td>\n",
       "            <td>MA</td>\n",
       "            <td>2148</td>\n",
       "            <td>05/05/75</td>\n",
       "            <td>M </td>\n",
       "            <td>Married</td>\n",
       "            <td>US Citizen</td>\n",
       "            <td>No</td>\n",
       "            <td>White</td>\n",
       "            <td>3/30/2015</td>\n",
       "            <td>6/16/2016</td>\n",
       "            <td>career change</td>\n",
       "            <td>Voluntarily Terminated</td>\n",
       "            <td>IT/IS</td>\n",
       "            <td>Simon Roup</td>\n",
       "            <td>4.0</td>\n",
       "            <td>Indeed</td>\n",
       "            <td>Fully Meets</td>\n",
       "            <td>4.96</td>\n",
       "            <td>3</td>\n",
       "            <td>6</td>\n",
       "            <td>2/24/2016</td>\n",
       "            <td>0</td>\n",
       "            <td>17</td>\n",
       "        </tr>\n",
       "        <tr>\n",
       "            <td>Akinkuolie, Sarah</td>\n",
       "            <td>10196</td>\n",
       "            <td>1</td>\n",
       "            <td>1</td>\n",
       "            <td>0</td>\n",
       "            <td>5</td>\n",
       "            <td>5</td>\n",
       "            <td>3</td>\n",
       "            <td>0</td>\n",
       "            <td>64955</td>\n",
       "            <td>1</td>\n",
       "            <td>20</td>\n",
       "            <td>Production Technician II</td>\n",
       "            <td>MA</td>\n",
       "            <td>1810</td>\n",
       "            <td>09/19/88</td>\n",
       "            <td>F</td>\n",
       "            <td>Married</td>\n",
       "            <td>US Citizen</td>\n",
       "            <td>No</td>\n",
       "            <td>White</td>\n",
       "            <td>7/5/2011</td>\n",
       "            <td>9/24/2012</td>\n",
       "            <td>hours</td>\n",
       "            <td>Voluntarily Terminated</td>\n",
       "            <td>Production       </td>\n",
       "            <td>Kissy Sullivan</td>\n",
       "            <td>20.0</td>\n",
       "            <td>LinkedIn</td>\n",
       "            <td>Fully Meets</td>\n",
       "            <td>3.02</td>\n",
       "            <td>3</td>\n",
       "            <td>0</td>\n",
       "            <td>5/15/2012</td>\n",
       "            <td>0</td>\n",
       "            <td>3</td>\n",
       "        </tr>\n",
       "        <tr>\n",
       "            <td>Alagbe,Trina</td>\n",
       "            <td>10088</td>\n",
       "            <td>1</td>\n",
       "            <td>1</td>\n",
       "            <td>0</td>\n",
       "            <td>1</td>\n",
       "            <td>5</td>\n",
       "            <td>3</td>\n",
       "            <td>0</td>\n",
       "            <td>64991</td>\n",
       "            <td>0</td>\n",
       "            <td>19</td>\n",
       "            <td>Production Technician I</td>\n",
       "            <td>MA</td>\n",
       "            <td>1886</td>\n",
       "            <td>09/27/88</td>\n",
       "            <td>F</td>\n",
       "            <td>Married</td>\n",
       "            <td>US Citizen</td>\n",
       "            <td>No</td>\n",
       "            <td>White</td>\n",
       "            <td>1/7/2008</td>\n",
       "            <td>None</td>\n",
       "            <td>N/A-StillEmployed</td>\n",
       "            <td>Active</td>\n",
       "            <td>Production       </td>\n",
       "            <td>Elijiah Gray</td>\n",
       "            <td>16.0</td>\n",
       "            <td>Indeed</td>\n",
       "            <td>Fully Meets</td>\n",
       "            <td>4.84</td>\n",
       "            <td>5</td>\n",
       "            <td>0</td>\n",
       "            <td>1/3/2019</td>\n",
       "            <td>0</td>\n",
       "            <td>15</td>\n",
       "        </tr>\n",
       "        <tr>\n",
       "            <td>Anderson, Carol </td>\n",
       "            <td>10069</td>\n",
       "            <td>0</td>\n",
       "            <td>2</td>\n",
       "            <td>0</td>\n",
       "            <td>5</td>\n",
       "            <td>5</td>\n",
       "            <td>3</td>\n",
       "            <td>0</td>\n",
       "            <td>50825</td>\n",
       "            <td>1</td>\n",
       "            <td>19</td>\n",
       "            <td>Production Technician I</td>\n",
       "            <td>MA</td>\n",
       "            <td>2169</td>\n",
       "            <td>09/08/89</td>\n",
       "            <td>F</td>\n",
       "            <td>Divorced</td>\n",
       "            <td>US Citizen</td>\n",
       "            <td>No</td>\n",
       "            <td>White</td>\n",
       "            <td>7/11/2011</td>\n",
       "            <td>9/6/2016</td>\n",
       "            <td>return to school</td>\n",
       "            <td>Voluntarily Terminated</td>\n",
       "            <td>Production       </td>\n",
       "            <td>Webster Butler</td>\n",
       "            <td>39.0</td>\n",
       "            <td>Google Search</td>\n",
       "            <td>Fully Meets</td>\n",
       "            <td>5.0</td>\n",
       "            <td>4</td>\n",
       "            <td>0</td>\n",
       "            <td>2/1/2016</td>\n",
       "            <td>0</td>\n",
       "            <td>2</td>\n",
       "        </tr>\n",
       "    </tbody>\n",
       "</table>"
      ],
      "text/plain": [
       "[('Adinolfi, Wilson  K', 10026, 0, 0, 1, 1, 5, 4, 0, 62506, 0, 19, 'Production Technician I', 'MA', 1960, '07/10/83', 'M ', 'Single', 'US Citizen', 'No', 'White', '7/5/2011', None, 'N/A-StillEmployed', 'Active', 'Production       ', 'Michael Albert', 22.0, 'LinkedIn', 'Exceeds', 4.6, 5, 0, '1/17/2019', 0, 1),\n",
       " ('Ait Sidi, Karthikeyan   ', 10084, 1, 1, 1, 5, 3, 3, 0, 104437, 1, 27, 'Sr. DBA', 'MA', 2148, '05/05/75', 'M ', 'Married', 'US Citizen', 'No', 'White', '3/30/2015', '6/16/2016', 'career change', 'Voluntarily Terminated', 'IT/IS', 'Simon Roup', 4.0, 'Indeed', 'Fully Meets', 4.96, 3, 6, '2/24/2016', 0, 17),\n",
       " ('Akinkuolie, Sarah', 10196, 1, 1, 0, 5, 5, 3, 0, 64955, 1, 20, 'Production Technician II', 'MA', 1810, '09/19/88', 'F', 'Married', 'US Citizen', 'No', 'White', '7/5/2011', '9/24/2012', 'hours', 'Voluntarily Terminated', 'Production       ', 'Kissy Sullivan', 20.0, 'LinkedIn', 'Fully Meets', 3.02, 3, 0, '5/15/2012', 0, 3),\n",
       " ('Alagbe,Trina', 10088, 1, 1, 0, 1, 5, 3, 0, 64991, 0, 19, 'Production Technician I', 'MA', 1886, '09/27/88', 'F', 'Married', 'US Citizen', 'No', 'White', '1/7/2008', None, 'N/A-StillEmployed', 'Active', 'Production       ', 'Elijiah Gray', 16.0, 'Indeed', 'Fully Meets', 4.84, 5, 0, '1/3/2019', 0, 15),\n",
       " ('Anderson, Carol ', 10069, 0, 2, 0, 5, 5, 3, 0, 50825, 1, 19, 'Production Technician I', 'MA', 2169, '09/08/89', 'F', 'Divorced', 'US Citizen', 'No', 'White', '7/11/2011', '9/6/2016', 'return to school', 'Voluntarily Terminated', 'Production       ', 'Webster Butler', 39.0, 'Google Search', 'Fully Meets', 5.0, 4, 0, '2/1/2016', 0, 2)]"
      ]
     },
     "execution_count": 45,
     "metadata": {},
     "output_type": "execute_result"
    }
   ],
   "source": [
    "%%sql\n",
    "\n",
    "SELECT * FROM employees LIMIT 5;"
   ]
  },
  {
   "cell_type": "code",
   "execution_count": 47,
   "id": "8e475946-b20f-4fc0-b195-6faab2221789",
   "metadata": {},
   "outputs": [
    {
     "name": "stdout",
     "output_type": "stream",
     "text": [
      " * sqlite:///hr_database.db\n",
      "Done.\n"
     ]
    },
    {
     "data": {
      "text/html": [
       "<table>\n",
       "    <thead>\n",
       "        <tr>\n",
       "            <th>cid</th>\n",
       "            <th>name</th>\n",
       "            <th>type</th>\n",
       "            <th>notnull</th>\n",
       "            <th>dflt_value</th>\n",
       "            <th>pk</th>\n",
       "        </tr>\n",
       "    </thead>\n",
       "    <tbody>\n",
       "        <tr>\n",
       "            <td>0</td>\n",
       "            <td>Employee_Name</td>\n",
       "            <td>TEXT</td>\n",
       "            <td>0</td>\n",
       "            <td>None</td>\n",
       "            <td>0</td>\n",
       "        </tr>\n",
       "        <tr>\n",
       "            <td>1</td>\n",
       "            <td>EmpID</td>\n",
       "            <td>BIGINT</td>\n",
       "            <td>0</td>\n",
       "            <td>None</td>\n",
       "            <td>0</td>\n",
       "        </tr>\n",
       "        <tr>\n",
       "            <td>2</td>\n",
       "            <td>MarriedID</td>\n",
       "            <td>BIGINT</td>\n",
       "            <td>0</td>\n",
       "            <td>None</td>\n",
       "            <td>0</td>\n",
       "        </tr>\n",
       "        <tr>\n",
       "            <td>3</td>\n",
       "            <td>MaritalStatusID</td>\n",
       "            <td>BIGINT</td>\n",
       "            <td>0</td>\n",
       "            <td>None</td>\n",
       "            <td>0</td>\n",
       "        </tr>\n",
       "        <tr>\n",
       "            <td>4</td>\n",
       "            <td>GenderID</td>\n",
       "            <td>BIGINT</td>\n",
       "            <td>0</td>\n",
       "            <td>None</td>\n",
       "            <td>0</td>\n",
       "        </tr>\n",
       "        <tr>\n",
       "            <td>5</td>\n",
       "            <td>EmpStatusID</td>\n",
       "            <td>BIGINT</td>\n",
       "            <td>0</td>\n",
       "            <td>None</td>\n",
       "            <td>0</td>\n",
       "        </tr>\n",
       "        <tr>\n",
       "            <td>6</td>\n",
       "            <td>DeptID</td>\n",
       "            <td>BIGINT</td>\n",
       "            <td>0</td>\n",
       "            <td>None</td>\n",
       "            <td>0</td>\n",
       "        </tr>\n",
       "        <tr>\n",
       "            <td>7</td>\n",
       "            <td>PerfScoreID</td>\n",
       "            <td>BIGINT</td>\n",
       "            <td>0</td>\n",
       "            <td>None</td>\n",
       "            <td>0</td>\n",
       "        </tr>\n",
       "        <tr>\n",
       "            <td>8</td>\n",
       "            <td>FromDiversityJobFairID</td>\n",
       "            <td>BIGINT</td>\n",
       "            <td>0</td>\n",
       "            <td>None</td>\n",
       "            <td>0</td>\n",
       "        </tr>\n",
       "        <tr>\n",
       "            <td>9</td>\n",
       "            <td>Salary</td>\n",
       "            <td>BIGINT</td>\n",
       "            <td>0</td>\n",
       "            <td>None</td>\n",
       "            <td>0</td>\n",
       "        </tr>\n",
       "        <tr>\n",
       "            <td>10</td>\n",
       "            <td>Termd</td>\n",
       "            <td>BIGINT</td>\n",
       "            <td>0</td>\n",
       "            <td>None</td>\n",
       "            <td>0</td>\n",
       "        </tr>\n",
       "        <tr>\n",
       "            <td>11</td>\n",
       "            <td>PositionID</td>\n",
       "            <td>BIGINT</td>\n",
       "            <td>0</td>\n",
       "            <td>None</td>\n",
       "            <td>0</td>\n",
       "        </tr>\n",
       "        <tr>\n",
       "            <td>12</td>\n",
       "            <td>Position</td>\n",
       "            <td>TEXT</td>\n",
       "            <td>0</td>\n",
       "            <td>None</td>\n",
       "            <td>0</td>\n",
       "        </tr>\n",
       "        <tr>\n",
       "            <td>13</td>\n",
       "            <td>State</td>\n",
       "            <td>TEXT</td>\n",
       "            <td>0</td>\n",
       "            <td>None</td>\n",
       "            <td>0</td>\n",
       "        </tr>\n",
       "        <tr>\n",
       "            <td>14</td>\n",
       "            <td>Zip</td>\n",
       "            <td>BIGINT</td>\n",
       "            <td>0</td>\n",
       "            <td>None</td>\n",
       "            <td>0</td>\n",
       "        </tr>\n",
       "        <tr>\n",
       "            <td>15</td>\n",
       "            <td>DOB</td>\n",
       "            <td>TEXT</td>\n",
       "            <td>0</td>\n",
       "            <td>None</td>\n",
       "            <td>0</td>\n",
       "        </tr>\n",
       "        <tr>\n",
       "            <td>16</td>\n",
       "            <td>Sex</td>\n",
       "            <td>TEXT</td>\n",
       "            <td>0</td>\n",
       "            <td>None</td>\n",
       "            <td>0</td>\n",
       "        </tr>\n",
       "        <tr>\n",
       "            <td>17</td>\n",
       "            <td>MaritalDesc</td>\n",
       "            <td>TEXT</td>\n",
       "            <td>0</td>\n",
       "            <td>None</td>\n",
       "            <td>0</td>\n",
       "        </tr>\n",
       "        <tr>\n",
       "            <td>18</td>\n",
       "            <td>CitizenDesc</td>\n",
       "            <td>TEXT</td>\n",
       "            <td>0</td>\n",
       "            <td>None</td>\n",
       "            <td>0</td>\n",
       "        </tr>\n",
       "        <tr>\n",
       "            <td>19</td>\n",
       "            <td>HispanicLatino</td>\n",
       "            <td>TEXT</td>\n",
       "            <td>0</td>\n",
       "            <td>None</td>\n",
       "            <td>0</td>\n",
       "        </tr>\n",
       "        <tr>\n",
       "            <td>20</td>\n",
       "            <td>RaceDesc</td>\n",
       "            <td>TEXT</td>\n",
       "            <td>0</td>\n",
       "            <td>None</td>\n",
       "            <td>0</td>\n",
       "        </tr>\n",
       "        <tr>\n",
       "            <td>21</td>\n",
       "            <td>DateofHire</td>\n",
       "            <td>TEXT</td>\n",
       "            <td>0</td>\n",
       "            <td>None</td>\n",
       "            <td>0</td>\n",
       "        </tr>\n",
       "        <tr>\n",
       "            <td>22</td>\n",
       "            <td>DateofTermination</td>\n",
       "            <td>TEXT</td>\n",
       "            <td>0</td>\n",
       "            <td>None</td>\n",
       "            <td>0</td>\n",
       "        </tr>\n",
       "        <tr>\n",
       "            <td>23</td>\n",
       "            <td>TermReason</td>\n",
       "            <td>TEXT</td>\n",
       "            <td>0</td>\n",
       "            <td>None</td>\n",
       "            <td>0</td>\n",
       "        </tr>\n",
       "        <tr>\n",
       "            <td>24</td>\n",
       "            <td>EmploymentStatus</td>\n",
       "            <td>TEXT</td>\n",
       "            <td>0</td>\n",
       "            <td>None</td>\n",
       "            <td>0</td>\n",
       "        </tr>\n",
       "        <tr>\n",
       "            <td>25</td>\n",
       "            <td>Department</td>\n",
       "            <td>TEXT</td>\n",
       "            <td>0</td>\n",
       "            <td>None</td>\n",
       "            <td>0</td>\n",
       "        </tr>\n",
       "        <tr>\n",
       "            <td>26</td>\n",
       "            <td>ManagerName</td>\n",
       "            <td>TEXT</td>\n",
       "            <td>0</td>\n",
       "            <td>None</td>\n",
       "            <td>0</td>\n",
       "        </tr>\n",
       "        <tr>\n",
       "            <td>27</td>\n",
       "            <td>ManagerID</td>\n",
       "            <td>FLOAT</td>\n",
       "            <td>0</td>\n",
       "            <td>None</td>\n",
       "            <td>0</td>\n",
       "        </tr>\n",
       "        <tr>\n",
       "            <td>28</td>\n",
       "            <td>RecruitmentSource</td>\n",
       "            <td>TEXT</td>\n",
       "            <td>0</td>\n",
       "            <td>None</td>\n",
       "            <td>0</td>\n",
       "        </tr>\n",
       "        <tr>\n",
       "            <td>29</td>\n",
       "            <td>PerformanceScore</td>\n",
       "            <td>TEXT</td>\n",
       "            <td>0</td>\n",
       "            <td>None</td>\n",
       "            <td>0</td>\n",
       "        </tr>\n",
       "        <tr>\n",
       "            <td>30</td>\n",
       "            <td>EngagementSurvey</td>\n",
       "            <td>FLOAT</td>\n",
       "            <td>0</td>\n",
       "            <td>None</td>\n",
       "            <td>0</td>\n",
       "        </tr>\n",
       "        <tr>\n",
       "            <td>31</td>\n",
       "            <td>EmpSatisfaction</td>\n",
       "            <td>BIGINT</td>\n",
       "            <td>0</td>\n",
       "            <td>None</td>\n",
       "            <td>0</td>\n",
       "        </tr>\n",
       "        <tr>\n",
       "            <td>32</td>\n",
       "            <td>SpecialProjectsCount</td>\n",
       "            <td>BIGINT</td>\n",
       "            <td>0</td>\n",
       "            <td>None</td>\n",
       "            <td>0</td>\n",
       "        </tr>\n",
       "        <tr>\n",
       "            <td>33</td>\n",
       "            <td>LastPerformanceReview_Date</td>\n",
       "            <td>TEXT</td>\n",
       "            <td>0</td>\n",
       "            <td>None</td>\n",
       "            <td>0</td>\n",
       "        </tr>\n",
       "        <tr>\n",
       "            <td>34</td>\n",
       "            <td>DaysLateLast30</td>\n",
       "            <td>BIGINT</td>\n",
       "            <td>0</td>\n",
       "            <td>None</td>\n",
       "            <td>0</td>\n",
       "        </tr>\n",
       "        <tr>\n",
       "            <td>35</td>\n",
       "            <td>Absences</td>\n",
       "            <td>BIGINT</td>\n",
       "            <td>0</td>\n",
       "            <td>None</td>\n",
       "            <td>0</td>\n",
       "        </tr>\n",
       "    </tbody>\n",
       "</table>"
      ],
      "text/plain": [
       "[(0, 'Employee_Name', 'TEXT', 0, None, 0),\n",
       " (1, 'EmpID', 'BIGINT', 0, None, 0),\n",
       " (2, 'MarriedID', 'BIGINT', 0, None, 0),\n",
       " (3, 'MaritalStatusID', 'BIGINT', 0, None, 0),\n",
       " (4, 'GenderID', 'BIGINT', 0, None, 0),\n",
       " (5, 'EmpStatusID', 'BIGINT', 0, None, 0),\n",
       " (6, 'DeptID', 'BIGINT', 0, None, 0),\n",
       " (7, 'PerfScoreID', 'BIGINT', 0, None, 0),\n",
       " (8, 'FromDiversityJobFairID', 'BIGINT', 0, None, 0),\n",
       " (9, 'Salary', 'BIGINT', 0, None, 0),\n",
       " (10, 'Termd', 'BIGINT', 0, None, 0),\n",
       " (11, 'PositionID', 'BIGINT', 0, None, 0),\n",
       " (12, 'Position', 'TEXT', 0, None, 0),\n",
       " (13, 'State', 'TEXT', 0, None, 0),\n",
       " (14, 'Zip', 'BIGINT', 0, None, 0),\n",
       " (15, 'DOB', 'TEXT', 0, None, 0),\n",
       " (16, 'Sex', 'TEXT', 0, None, 0),\n",
       " (17, 'MaritalDesc', 'TEXT', 0, None, 0),\n",
       " (18, 'CitizenDesc', 'TEXT', 0, None, 0),\n",
       " (19, 'HispanicLatino', 'TEXT', 0, None, 0),\n",
       " (20, 'RaceDesc', 'TEXT', 0, None, 0),\n",
       " (21, 'DateofHire', 'TEXT', 0, None, 0),\n",
       " (22, 'DateofTermination', 'TEXT', 0, None, 0),\n",
       " (23, 'TermReason', 'TEXT', 0, None, 0),\n",
       " (24, 'EmploymentStatus', 'TEXT', 0, None, 0),\n",
       " (25, 'Department', 'TEXT', 0, None, 0),\n",
       " (26, 'ManagerName', 'TEXT', 0, None, 0),\n",
       " (27, 'ManagerID', 'FLOAT', 0, None, 0),\n",
       " (28, 'RecruitmentSource', 'TEXT', 0, None, 0),\n",
       " (29, 'PerformanceScore', 'TEXT', 0, None, 0),\n",
       " (30, 'EngagementSurvey', 'FLOAT', 0, None, 0),\n",
       " (31, 'EmpSatisfaction', 'BIGINT', 0, None, 0),\n",
       " (32, 'SpecialProjectsCount', 'BIGINT', 0, None, 0),\n",
       " (33, 'LastPerformanceReview_Date', 'TEXT', 0, None, 0),\n",
       " (34, 'DaysLateLast30', 'BIGINT', 0, None, 0),\n",
       " (35, 'Absences', 'BIGINT', 0, None, 0)]"
      ]
     },
     "execution_count": 47,
     "metadata": {},
     "output_type": "execute_result"
    }
   ],
   "source": [
    "%%sql\n",
    "PRAGMA table_info(employees);"
   ]
  },
  {
   "cell_type": "markdown",
   "id": "4fa4f2ee-5466-455f-b3ea-e4f0719d1f6e",
   "metadata": {},
   "source": [
    "# Proyek"
   ]
  },
  {
   "cell_type": "markdown",
   "id": "050696ff-1bb6-4cff-a3cf-dd41b5a59941",
   "metadata": {
    "jp-MarkdownHeadingCollapsed": true
   },
   "source": [
    "## 1. Demografi Karyawan "
   ]
  },
  {
   "cell_type": "markdown",
   "id": "afee4901-f5c4-4fdd-83a9-61c026104a1b",
   "metadata": {},
   "source": [
    "### 1.1 Jumlah Karyawan berdasarkan Jenis Kelamin (Sex)"
   ]
  },
  {
   "cell_type": "code",
   "execution_count": 49,
   "id": "db0290e9-cc30-416a-8e92-5177ce95ce9c",
   "metadata": {},
   "outputs": [
    {
     "name": "stdout",
     "output_type": "stream",
     "text": [
      " * sqlite:///hr_database.db\n",
      "Done.\n"
     ]
    },
    {
     "data": {
      "text/html": [
       "<table>\n",
       "    <thead>\n",
       "        <tr>\n",
       "            <th>Sex</th>\n",
       "            <th>jumlah_karyawan</th>\n",
       "        </tr>\n",
       "    </thead>\n",
       "    <tbody>\n",
       "        <tr>\n",
       "            <td>F</td>\n",
       "            <td>176</td>\n",
       "        </tr>\n",
       "        <tr>\n",
       "            <td>M </td>\n",
       "            <td>135</td>\n",
       "        </tr>\n",
       "    </tbody>\n",
       "</table>"
      ],
      "text/plain": [
       "[('F', 176), ('M ', 135)]"
      ]
     },
     "execution_count": 49,
     "metadata": {},
     "output_type": "execute_result"
    }
   ],
   "source": [
    "%%sql\n",
    "\n",
    "SELECT Sex, COUNT(*) AS jumlah_karyawan\n",
    "FROM employees\n",
    "GROUP BY Sex\n",
    "ORDER BY jumlah_karyawan DESC;"
   ]
  },
  {
   "cell_type": "markdown",
   "id": "94de2a08-eedd-4d85-9702-b9ed4e99d0c0",
   "metadata": {},
   "source": [
    "### 1.2 Distribusi Status Pernikahan (MaritalDesc)"
   ]
  },
  {
   "cell_type": "code",
   "execution_count": 51,
   "id": "ea589906-ab10-45c5-9e90-61a9a5495f40",
   "metadata": {},
   "outputs": [
    {
     "name": "stdout",
     "output_type": "stream",
     "text": [
      " * sqlite:///hr_database.db\n",
      "Done.\n"
     ]
    },
    {
     "data": {
      "text/html": [
       "<table>\n",
       "    <thead>\n",
       "        <tr>\n",
       "            <th>MaritalDesc</th>\n",
       "            <th>jumlah_karyawan</th>\n",
       "        </tr>\n",
       "    </thead>\n",
       "    <tbody>\n",
       "        <tr>\n",
       "            <td>Single</td>\n",
       "            <td>137</td>\n",
       "        </tr>\n",
       "        <tr>\n",
       "            <td>Married</td>\n",
       "            <td>124</td>\n",
       "        </tr>\n",
       "        <tr>\n",
       "            <td>Divorced</td>\n",
       "            <td>30</td>\n",
       "        </tr>\n",
       "        <tr>\n",
       "            <td>Separated</td>\n",
       "            <td>12</td>\n",
       "        </tr>\n",
       "        <tr>\n",
       "            <td>Widowed</td>\n",
       "            <td>8</td>\n",
       "        </tr>\n",
       "    </tbody>\n",
       "</table>"
      ],
      "text/plain": [
       "[('Single', 137),\n",
       " ('Married', 124),\n",
       " ('Divorced', 30),\n",
       " ('Separated', 12),\n",
       " ('Widowed', 8)]"
      ]
     },
     "execution_count": 51,
     "metadata": {},
     "output_type": "execute_result"
    }
   ],
   "source": [
    "%%sql\n",
    "\n",
    "SELECT MaritalDesc, COUNT(*) AS jumlah_karyawan\n",
    "FROM employees\n",
    "GROUP BY MaritalDesc\n",
    "ORDER BY jumlah_karyawan DESC;"
   ]
  },
  {
   "cell_type": "markdown",
   "id": "11eb0186-63aa-4482-bcd5-659f9430ed42",
   "metadata": {},
   "source": [
    "### 1.3 Komposisi Ras (RaceDesc)"
   ]
  },
  {
   "cell_type": "code",
   "execution_count": 53,
   "id": "e10a01a8-c914-4231-bf91-79a756e524be",
   "metadata": {},
   "outputs": [
    {
     "name": "stdout",
     "output_type": "stream",
     "text": [
      " * sqlite:///hr_database.db\n",
      "Done.\n"
     ]
    },
    {
     "data": {
      "text/html": [
       "<table>\n",
       "    <thead>\n",
       "        <tr>\n",
       "            <th>RaceDesc</th>\n",
       "            <th>jumlah_karyawan</th>\n",
       "        </tr>\n",
       "    </thead>\n",
       "    <tbody>\n",
       "        <tr>\n",
       "            <td>White</td>\n",
       "            <td>187</td>\n",
       "        </tr>\n",
       "        <tr>\n",
       "            <td>Black or African American</td>\n",
       "            <td>80</td>\n",
       "        </tr>\n",
       "        <tr>\n",
       "            <td>Asian</td>\n",
       "            <td>29</td>\n",
       "        </tr>\n",
       "        <tr>\n",
       "            <td>Two or more races</td>\n",
       "            <td>11</td>\n",
       "        </tr>\n",
       "        <tr>\n",
       "            <td>American Indian or Alaska Native</td>\n",
       "            <td>3</td>\n",
       "        </tr>\n",
       "        <tr>\n",
       "            <td>Hispanic</td>\n",
       "            <td>1</td>\n",
       "        </tr>\n",
       "    </tbody>\n",
       "</table>"
      ],
      "text/plain": [
       "[('White', 187),\n",
       " ('Black or African American', 80),\n",
       " ('Asian', 29),\n",
       " ('Two or more races', 11),\n",
       " ('American Indian or Alaska Native', 3),\n",
       " ('Hispanic', 1)]"
      ]
     },
     "execution_count": 53,
     "metadata": {},
     "output_type": "execute_result"
    }
   ],
   "source": [
    "%%sql\n",
    "\n",
    "SELECT RaceDesc, COUNT(*) AS jumlah_karyawan\n",
    "FROM employees\n",
    "GROUP BY RaceDesc\n",
    "ORDER BY jumlah_karyawan DESC;"
   ]
  },
  {
   "cell_type": "markdown",
   "id": "ee1ebfe3-22dc-454a-9623-814d4616de37",
   "metadata": {},
   "source": [
    "### 1.4 Jumlah Karyawan berdasarkan Kewarganegaraan (CitizenDesc)"
   ]
  },
  {
   "cell_type": "code",
   "execution_count": 55,
   "id": "cd110aca-4c83-45ac-b905-44ed55530a7d",
   "metadata": {},
   "outputs": [
    {
     "name": "stdout",
     "output_type": "stream",
     "text": [
      " * sqlite:///hr_database.db\n",
      "Done.\n"
     ]
    },
    {
     "data": {
      "text/html": [
       "<table>\n",
       "    <thead>\n",
       "        <tr>\n",
       "            <th>CitizenDesc</th>\n",
       "            <th>jumlah_karyawan</th>\n",
       "        </tr>\n",
       "    </thead>\n",
       "    <tbody>\n",
       "        <tr>\n",
       "            <td>US Citizen</td>\n",
       "            <td>295</td>\n",
       "        </tr>\n",
       "        <tr>\n",
       "            <td>Eligible NonCitizen</td>\n",
       "            <td>12</td>\n",
       "        </tr>\n",
       "        <tr>\n",
       "            <td>Non-Citizen</td>\n",
       "            <td>4</td>\n",
       "        </tr>\n",
       "    </tbody>\n",
       "</table>"
      ],
      "text/plain": [
       "[('US Citizen', 295), ('Eligible NonCitizen', 12), ('Non-Citizen', 4)]"
      ]
     },
     "execution_count": 55,
     "metadata": {},
     "output_type": "execute_result"
    }
   ],
   "source": [
    "%%sql\n",
    "\n",
    "SELECT CitizenDesc, COUNT(*) AS jumlah_karyawan\n",
    "FROM employees\n",
    "GROUP BY CitizenDesc\n",
    "ORDER BY jumlah_karyawan DESC;"
   ]
  },
  {
   "cell_type": "markdown",
   "id": "b6017e75-86d7-4879-a0b7-e15df08e7915",
   "metadata": {},
   "source": [
    "### 1.5 Jumlah Karyawan berdasarkan Negara Bagian (State)"
   ]
  },
  {
   "cell_type": "code",
   "execution_count": 57,
   "id": "70ee2e62-d179-46f9-8ffd-6f4bad6024a7",
   "metadata": {},
   "outputs": [
    {
     "name": "stdout",
     "output_type": "stream",
     "text": [
      " * sqlite:///hr_database.db\n",
      "Done.\n"
     ]
    },
    {
     "data": {
      "text/html": [
       "<table>\n",
       "    <thead>\n",
       "        <tr>\n",
       "            <th>State</th>\n",
       "            <th>jumlah_karyawan</th>\n",
       "        </tr>\n",
       "    </thead>\n",
       "    <tbody>\n",
       "        <tr>\n",
       "            <td>MA</td>\n",
       "            <td>276</td>\n",
       "        </tr>\n",
       "        <tr>\n",
       "            <td>CT</td>\n",
       "            <td>6</td>\n",
       "        </tr>\n",
       "        <tr>\n",
       "            <td>TX</td>\n",
       "            <td>3</td>\n",
       "        </tr>\n",
       "        <tr>\n",
       "            <td>VT</td>\n",
       "            <td>2</td>\n",
       "        </tr>\n",
       "        <tr>\n",
       "            <td>WA</td>\n",
       "            <td>1</td>\n",
       "        </tr>\n",
       "        <tr>\n",
       "            <td>VA</td>\n",
       "            <td>1</td>\n",
       "        </tr>\n",
       "        <tr>\n",
       "            <td>UT</td>\n",
       "            <td>1</td>\n",
       "        </tr>\n",
       "        <tr>\n",
       "            <td>TN</td>\n",
       "            <td>1</td>\n",
       "        </tr>\n",
       "        <tr>\n",
       "            <td>RI</td>\n",
       "            <td>1</td>\n",
       "        </tr>\n",
       "        <tr>\n",
       "            <td>PA</td>\n",
       "            <td>1</td>\n",
       "        </tr>\n",
       "        <tr>\n",
       "            <td>OR</td>\n",
       "            <td>1</td>\n",
       "        </tr>\n",
       "        <tr>\n",
       "            <td>OH</td>\n",
       "            <td>1</td>\n",
       "        </tr>\n",
       "        <tr>\n",
       "            <td>NY</td>\n",
       "            <td>1</td>\n",
       "        </tr>\n",
       "        <tr>\n",
       "            <td>NV</td>\n",
       "            <td>1</td>\n",
       "        </tr>\n",
       "        <tr>\n",
       "            <td>NH</td>\n",
       "            <td>1</td>\n",
       "        </tr>\n",
       "        <tr>\n",
       "            <td>ND</td>\n",
       "            <td>1</td>\n",
       "        </tr>\n",
       "        <tr>\n",
       "            <td>NC</td>\n",
       "            <td>1</td>\n",
       "        </tr>\n",
       "        <tr>\n",
       "            <td>MT</td>\n",
       "            <td>1</td>\n",
       "        </tr>\n",
       "        <tr>\n",
       "            <td>ME</td>\n",
       "            <td>1</td>\n",
       "        </tr>\n",
       "        <tr>\n",
       "            <td>KY</td>\n",
       "            <td>1</td>\n",
       "        </tr>\n",
       "        <tr>\n",
       "            <td>IN</td>\n",
       "            <td>1</td>\n",
       "        </tr>\n",
       "        <tr>\n",
       "            <td>ID</td>\n",
       "            <td>1</td>\n",
       "        </tr>\n",
       "        <tr>\n",
       "            <td>GA</td>\n",
       "            <td>1</td>\n",
       "        </tr>\n",
       "        <tr>\n",
       "            <td>FL</td>\n",
       "            <td>1</td>\n",
       "        </tr>\n",
       "        <tr>\n",
       "            <td>CO</td>\n",
       "            <td>1</td>\n",
       "        </tr>\n",
       "        <tr>\n",
       "            <td>CA</td>\n",
       "            <td>1</td>\n",
       "        </tr>\n",
       "        <tr>\n",
       "            <td>AZ</td>\n",
       "            <td>1</td>\n",
       "        </tr>\n",
       "        <tr>\n",
       "            <td>AL</td>\n",
       "            <td>1</td>\n",
       "        </tr>\n",
       "    </tbody>\n",
       "</table>"
      ],
      "text/plain": [
       "[('MA', 276),\n",
       " ('CT', 6),\n",
       " ('TX', 3),\n",
       " ('VT', 2),\n",
       " ('WA', 1),\n",
       " ('VA', 1),\n",
       " ('UT', 1),\n",
       " ('TN', 1),\n",
       " ('RI', 1),\n",
       " ('PA', 1),\n",
       " ('OR', 1),\n",
       " ('OH', 1),\n",
       " ('NY', 1),\n",
       " ('NV', 1),\n",
       " ('NH', 1),\n",
       " ('ND', 1),\n",
       " ('NC', 1),\n",
       " ('MT', 1),\n",
       " ('ME', 1),\n",
       " ('KY', 1),\n",
       " ('IN', 1),\n",
       " ('ID', 1),\n",
       " ('GA', 1),\n",
       " ('FL', 1),\n",
       " ('CO', 1),\n",
       " ('CA', 1),\n",
       " ('AZ', 1),\n",
       " ('AL', 1)]"
      ]
     },
     "execution_count": 57,
     "metadata": {},
     "output_type": "execute_result"
    }
   ],
   "source": [
    "%%sql\n",
    "\n",
    "SELECT State, COUNT(*) AS jumlah_karyawan\n",
    "FROM employees\n",
    "GROUP BY State\n",
    "ORDER BY jumlah_karyawan DESC;"
   ]
  },
  {
   "cell_type": "markdown",
   "id": "334c8224-94e5-415d-9aae-fa0cacac4d7b",
   "metadata": {
    "jp-MarkdownHeadingCollapsed": true
   },
   "source": [
    "## 2. Struktur Organisasi"
   ]
  },
  {
   "cell_type": "markdown",
   "id": "1c7b0c3d-9ec8-491b-810d-857b3400fdc3",
   "metadata": {},
   "source": [
    "### 2.1 Jumlah Karyawan per Departemen (Department)"
   ]
  },
  {
   "cell_type": "code",
   "execution_count": 59,
   "id": "f7bf0805-5a29-4f35-a888-0cd05e289be2",
   "metadata": {},
   "outputs": [
    {
     "name": "stdout",
     "output_type": "stream",
     "text": [
      " * sqlite:///hr_database.db\n",
      "Done.\n"
     ]
    },
    {
     "data": {
      "text/html": [
       "<table>\n",
       "    <thead>\n",
       "        <tr>\n",
       "            <th>Department</th>\n",
       "            <th>jumlah_karyawan</th>\n",
       "        </tr>\n",
       "    </thead>\n",
       "    <tbody>\n",
       "        <tr>\n",
       "            <td>Production       </td>\n",
       "            <td>209</td>\n",
       "        </tr>\n",
       "        <tr>\n",
       "            <td>IT/IS</td>\n",
       "            <td>50</td>\n",
       "        </tr>\n",
       "        <tr>\n",
       "            <td>Sales</td>\n",
       "            <td>31</td>\n",
       "        </tr>\n",
       "        <tr>\n",
       "            <td>Software Engineering</td>\n",
       "            <td>11</td>\n",
       "        </tr>\n",
       "        <tr>\n",
       "            <td>Admin Offices</td>\n",
       "            <td>9</td>\n",
       "        </tr>\n",
       "        <tr>\n",
       "            <td>Executive Office</td>\n",
       "            <td>1</td>\n",
       "        </tr>\n",
       "    </tbody>\n",
       "</table>"
      ],
      "text/plain": [
       "[('Production       ', 209),\n",
       " ('IT/IS', 50),\n",
       " ('Sales', 31),\n",
       " ('Software Engineering', 11),\n",
       " ('Admin Offices', 9),\n",
       " ('Executive Office', 1)]"
      ]
     },
     "execution_count": 59,
     "metadata": {},
     "output_type": "execute_result"
    }
   ],
   "source": [
    "%%sql\n",
    "\n",
    "SELECT Department, COUNT(*) AS jumlah_karyawan\n",
    "FROM employees\n",
    "GROUP BY Department\n",
    "ORDER BY jumlah_karyawan DESC;"
   ]
  },
  {
   "cell_type": "markdown",
   "id": "ccd410df-cfa6-4a3d-83e1-96f9eac114e3",
   "metadata": {},
   "source": [
    "### 2.2 Jumlah Karyawan per Posisi atau Jabatan (Position)"
   ]
  },
  {
   "cell_type": "code",
   "execution_count": 61,
   "id": "9bfe8458-d1d5-4867-898e-938b3066be0f",
   "metadata": {},
   "outputs": [
    {
     "name": "stdout",
     "output_type": "stream",
     "text": [
      " * sqlite:///hr_database.db\n",
      "Done.\n"
     ]
    },
    {
     "data": {
      "text/html": [
       "<table>\n",
       "    <thead>\n",
       "        <tr>\n",
       "            <th>Position</th>\n",
       "            <th>jumlah_karyawan</th>\n",
       "        </tr>\n",
       "    </thead>\n",
       "    <tbody>\n",
       "        <tr>\n",
       "            <td>Production Technician I</td>\n",
       "            <td>137</td>\n",
       "        </tr>\n",
       "        <tr>\n",
       "            <td>Production Technician II</td>\n",
       "            <td>57</td>\n",
       "        </tr>\n",
       "        <tr>\n",
       "            <td>Area Sales Manager</td>\n",
       "            <td>27</td>\n",
       "        </tr>\n",
       "        <tr>\n",
       "            <td>Production Manager</td>\n",
       "            <td>14</td>\n",
       "        </tr>\n",
       "        <tr>\n",
       "            <td>Software Engineer</td>\n",
       "            <td>10</td>\n",
       "        </tr>\n",
       "        <tr>\n",
       "            <td>IT Support</td>\n",
       "            <td>8</td>\n",
       "        </tr>\n",
       "        <tr>\n",
       "            <td>Data Analyst</td>\n",
       "            <td>7</td>\n",
       "        </tr>\n",
       "        <tr>\n",
       "            <td>Sr. Network Engineer</td>\n",
       "            <td>5</td>\n",
       "        </tr>\n",
       "        <tr>\n",
       "            <td>Network Engineer</td>\n",
       "            <td>5</td>\n",
       "        </tr>\n",
       "        <tr>\n",
       "            <td>Database Administrator</td>\n",
       "            <td>5</td>\n",
       "        </tr>\n",
       "        <tr>\n",
       "            <td>BI Developer</td>\n",
       "            <td>4</td>\n",
       "        </tr>\n",
       "        <tr>\n",
       "            <td>Senior BI Developer</td>\n",
       "            <td>3</td>\n",
       "        </tr>\n",
       "        <tr>\n",
       "            <td>Sales Manager</td>\n",
       "            <td>3</td>\n",
       "        </tr>\n",
       "        <tr>\n",
       "            <td>Administrative Assistant</td>\n",
       "            <td>3</td>\n",
       "        </tr>\n",
       "        <tr>\n",
       "            <td>Accountant I</td>\n",
       "            <td>3</td>\n",
       "        </tr>\n",
       "        <tr>\n",
       "            <td>Sr. DBA</td>\n",
       "            <td>2</td>\n",
       "        </tr>\n",
       "        <tr>\n",
       "            <td>Sr. Accountant</td>\n",
       "            <td>2</td>\n",
       "        </tr>\n",
       "        <tr>\n",
       "            <td>IT Manager - DB</td>\n",
       "            <td>2</td>\n",
       "        </tr>\n",
       "        <tr>\n",
       "            <td>Software Engineering Manager</td>\n",
       "            <td>1</td>\n",
       "        </tr>\n",
       "        <tr>\n",
       "            <td>Shared Services Manager</td>\n",
       "            <td>1</td>\n",
       "        </tr>\n",
       "        <tr>\n",
       "            <td>Principal Data Architect</td>\n",
       "            <td>1</td>\n",
       "        </tr>\n",
       "        <tr>\n",
       "            <td>President &amp; CEO</td>\n",
       "            <td>1</td>\n",
       "        </tr>\n",
       "        <tr>\n",
       "            <td>IT Manager - Support</td>\n",
       "            <td>1</td>\n",
       "        </tr>\n",
       "        <tr>\n",
       "            <td>IT Manager - Infra</td>\n",
       "            <td>1</td>\n",
       "        </tr>\n",
       "        <tr>\n",
       "            <td>IT Director</td>\n",
       "            <td>1</td>\n",
       "        </tr>\n",
       "        <tr>\n",
       "            <td>Enterprise Architect</td>\n",
       "            <td>1</td>\n",
       "        </tr>\n",
       "        <tr>\n",
       "            <td>Director of Sales</td>\n",
       "            <td>1</td>\n",
       "        </tr>\n",
       "        <tr>\n",
       "            <td>Director of Operations</td>\n",
       "            <td>1</td>\n",
       "        </tr>\n",
       "        <tr>\n",
       "            <td>Data Architect</td>\n",
       "            <td>1</td>\n",
       "        </tr>\n",
       "        <tr>\n",
       "            <td>Data Analyst </td>\n",
       "            <td>1</td>\n",
       "        </tr>\n",
       "        <tr>\n",
       "            <td>CIO</td>\n",
       "            <td>1</td>\n",
       "        </tr>\n",
       "        <tr>\n",
       "            <td>BI Director</td>\n",
       "            <td>1</td>\n",
       "        </tr>\n",
       "    </tbody>\n",
       "</table>"
      ],
      "text/plain": [
       "[('Production Technician I', 137),\n",
       " ('Production Technician II', 57),\n",
       " ('Area Sales Manager', 27),\n",
       " ('Production Manager', 14),\n",
       " ('Software Engineer', 10),\n",
       " ('IT Support', 8),\n",
       " ('Data Analyst', 7),\n",
       " ('Sr. Network Engineer', 5),\n",
       " ('Network Engineer', 5),\n",
       " ('Database Administrator', 5),\n",
       " ('BI Developer', 4),\n",
       " ('Senior BI Developer', 3),\n",
       " ('Sales Manager', 3),\n",
       " ('Administrative Assistant', 3),\n",
       " ('Accountant I', 3),\n",
       " ('Sr. DBA', 2),\n",
       " ('Sr. Accountant', 2),\n",
       " ('IT Manager - DB', 2),\n",
       " ('Software Engineering Manager', 1),\n",
       " ('Shared Services Manager', 1),\n",
       " ('Principal Data Architect', 1),\n",
       " ('President & CEO', 1),\n",
       " ('IT Manager - Support', 1),\n",
       " ('IT Manager - Infra', 1),\n",
       " ('IT Director', 1),\n",
       " ('Enterprise Architect', 1),\n",
       " ('Director of Sales', 1),\n",
       " ('Director of Operations', 1),\n",
       " ('Data Architect', 1),\n",
       " ('Data Analyst ', 1),\n",
       " ('CIO', 1),\n",
       " ('BI Director', 1)]"
      ]
     },
     "execution_count": 61,
     "metadata": {},
     "output_type": "execute_result"
    }
   ],
   "source": [
    "%%sql\n",
    "\n",
    "SELECT Position, COUNT(*) AS jumlah_karyawan\n",
    "FROM employees\n",
    "GROUP BY Position\n",
    "ORDER BY jumlah_karyawan DESC;"
   ]
  },
  {
   "cell_type": "markdown",
   "id": "529463e6-332c-4239-9c77-3252a66a68de",
   "metadata": {},
   "source": [
    "### 2.3 Rata-rata Gaji per Posisi (Position)"
   ]
  },
  {
   "cell_type": "code",
   "execution_count": 63,
   "id": "28396922-3913-475b-bf5f-c74eb158814b",
   "metadata": {},
   "outputs": [
    {
     "name": "stdout",
     "output_type": "stream",
     "text": [
      " * sqlite:///hr_database.db\n",
      "Done.\n"
     ]
    },
    {
     "data": {
      "text/html": [
       "<table>\n",
       "    <thead>\n",
       "        <tr>\n",
       "            <th>Position</th>\n",
       "            <th>rata_rata_gaji</th>\n",
       "        </tr>\n",
       "    </thead>\n",
       "    <tbody>\n",
       "        <tr>\n",
       "            <td>President &amp; CEO</td>\n",
       "            <td>250000.0</td>\n",
       "        </tr>\n",
       "        <tr>\n",
       "            <td>CIO</td>\n",
       "            <td>220450.0</td>\n",
       "        </tr>\n",
       "        <tr>\n",
       "            <td>Director of Sales</td>\n",
       "            <td>180000.0</td>\n",
       "        </tr>\n",
       "        <tr>\n",
       "            <td>IT Director</td>\n",
       "            <td>178000.0</td>\n",
       "        </tr>\n",
       "        <tr>\n",
       "            <td>Director of Operations</td>\n",
       "            <td>170500.0</td>\n",
       "        </tr>\n",
       "        <tr>\n",
       "            <td>IT Manager - Infra</td>\n",
       "            <td>157000.0</td>\n",
       "        </tr>\n",
       "        <tr>\n",
       "            <td>Data Architect</td>\n",
       "            <td>150290.0</td>\n",
       "        </tr>\n",
       "        <tr>\n",
       "            <td>IT Manager - DB</td>\n",
       "            <td>144959.5</td>\n",
       "        </tr>\n",
       "        <tr>\n",
       "            <td>IT Manager - Support</td>\n",
       "            <td>138888.0</td>\n",
       "        </tr>\n",
       "        <tr>\n",
       "            <td>Principal Data Architect</td>\n",
       "            <td>120000.0</td>\n",
       "        </tr>\n",
       "        <tr>\n",
       "            <td>BI Director</td>\n",
       "            <td>110929.0</td>\n",
       "        </tr>\n",
       "        <tr>\n",
       "            <td>Database Administrator</td>\n",
       "            <td>108499.6</td>\n",
       "        </tr>\n",
       "        <tr>\n",
       "            <td>Enterprise Architect</td>\n",
       "            <td>103613.0</td>\n",
       "        </tr>\n",
       "        <tr>\n",
       "            <td>Sr. Accountant</td>\n",
       "            <td>102859.0</td>\n",
       "        </tr>\n",
       "        <tr>\n",
       "            <td>Sr. DBA</td>\n",
       "            <td>102234.0</td>\n",
       "        </tr>\n",
       "        <tr>\n",
       "            <td>Software Engineer</td>\n",
       "            <td>96719.2</td>\n",
       "        </tr>\n",
       "        <tr>\n",
       "            <td>BI Developer</td>\n",
       "            <td>95465.0</td>\n",
       "        </tr>\n",
       "        <tr>\n",
       "            <td>Sr. Network Engineer</td>\n",
       "            <td>93070.8</td>\n",
       "        </tr>\n",
       "        <tr>\n",
       "            <td>Shared Services Manager</td>\n",
       "            <td>93046.0</td>\n",
       "        </tr>\n",
       "        <tr>\n",
       "            <td>Data Analyst</td>\n",
       "            <td>89932.57142857143</td>\n",
       "        </tr>\n",
       "        <tr>\n",
       "            <td>Data Analyst </td>\n",
       "            <td>88527.0</td>\n",
       "        </tr>\n",
       "        <tr>\n",
       "            <td>Senior BI Developer</td>\n",
       "            <td>84802.66666666667</td>\n",
       "        </tr>\n",
       "        <tr>\n",
       "            <td>Software Engineering Manager</td>\n",
       "            <td>77692.0</td>\n",
       "        </tr>\n",
       "        <tr>\n",
       "            <td>Production Manager</td>\n",
       "            <td>75294.5</td>\n",
       "        </tr>\n",
       "        <tr>\n",
       "            <td>Sales Manager</td>\n",
       "            <td>69240.0</td>\n",
       "        </tr>\n",
       "        <tr>\n",
       "            <td>Area Sales Manager</td>\n",
       "            <td>64932.555555555555</td>\n",
       "        </tr>\n",
       "        <tr>\n",
       "            <td>Production Technician II</td>\n",
       "            <td>64892.21052631579</td>\n",
       "        </tr>\n",
       "        <tr>\n",
       "            <td>IT Support</td>\n",
       "            <td>63684.375</td>\n",
       "        </tr>\n",
       "        <tr>\n",
       "            <td>Accountant I</td>\n",
       "            <td>63507.666666666664</td>\n",
       "        </tr>\n",
       "        <tr>\n",
       "            <td>Network Engineer</td>\n",
       "            <td>61605.0</td>\n",
       "        </tr>\n",
       "        <tr>\n",
       "            <td>Production Technician I</td>\n",
       "            <td>55524.175182481755</td>\n",
       "        </tr>\n",
       "        <tr>\n",
       "            <td>Administrative Assistant</td>\n",
       "            <td>52280.0</td>\n",
       "        </tr>\n",
       "    </tbody>\n",
       "</table>"
      ],
      "text/plain": [
       "[('President & CEO', 250000.0),\n",
       " ('CIO', 220450.0),\n",
       " ('Director of Sales', 180000.0),\n",
       " ('IT Director', 178000.0),\n",
       " ('Director of Operations', 170500.0),\n",
       " ('IT Manager - Infra', 157000.0),\n",
       " ('Data Architect', 150290.0),\n",
       " ('IT Manager - DB', 144959.5),\n",
       " ('IT Manager - Support', 138888.0),\n",
       " ('Principal Data Architect', 120000.0),\n",
       " ('BI Director', 110929.0),\n",
       " ('Database Administrator', 108499.6),\n",
       " ('Enterprise Architect', 103613.0),\n",
       " ('Sr. Accountant', 102859.0),\n",
       " ('Sr. DBA', 102234.0),\n",
       " ('Software Engineer', 96719.2),\n",
       " ('BI Developer', 95465.0),\n",
       " ('Sr. Network Engineer', 93070.8),\n",
       " ('Shared Services Manager', 93046.0),\n",
       " ('Data Analyst', 89932.57142857143),\n",
       " ('Data Analyst ', 88527.0),\n",
       " ('Senior BI Developer', 84802.66666666667),\n",
       " ('Software Engineering Manager', 77692.0),\n",
       " ('Production Manager', 75294.5),\n",
       " ('Sales Manager', 69240.0),\n",
       " ('Area Sales Manager', 64932.555555555555),\n",
       " ('Production Technician II', 64892.21052631579),\n",
       " ('IT Support', 63684.375),\n",
       " ('Accountant I', 63507.666666666664),\n",
       " ('Network Engineer', 61605.0),\n",
       " ('Production Technician I', 55524.175182481755),\n",
       " ('Administrative Assistant', 52280.0)]"
      ]
     },
     "execution_count": 63,
     "metadata": {},
     "output_type": "execute_result"
    }
   ],
   "source": [
    "%%sql\n",
    "\n",
    "SELECT Position, AVG(Salary) AS rata_rata_gaji\n",
    "FROM employees\n",
    "GROUP BY Position\n",
    "ORDER BY rata_rata_gaji DESC;"
   ]
  },
  {
   "cell_type": "markdown",
   "id": "863bb2f0-44db-4e74-b206-22abbe596e5a",
   "metadata": {},
   "source": [
    "### 3.4 Rata-rata Gaji per Departemen (Department)"
   ]
  },
  {
   "cell_type": "code",
   "execution_count": 74,
   "id": "f978d063-2d4c-4e81-affd-e9d66a510f67",
   "metadata": {},
   "outputs": [
    {
     "name": "stdout",
     "output_type": "stream",
     "text": [
      " * sqlite:///hr_database.db\n",
      "Done.\n"
     ]
    },
    {
     "data": {
      "text/html": [
       "<table>\n",
       "    <thead>\n",
       "        <tr>\n",
       "            <th>Department</th>\n",
       "            <th>rata_rata_gaji</th>\n",
       "        </tr>\n",
       "    </thead>\n",
       "    <tbody>\n",
       "        <tr>\n",
       "            <td>Executive Office</td>\n",
       "            <td>250000.0</td>\n",
       "        </tr>\n",
       "        <tr>\n",
       "            <td>IT/IS</td>\n",
       "            <td>97064.64</td>\n",
       "        </tr>\n",
       "        <tr>\n",
       "            <td>Software Engineering</td>\n",
       "            <td>94989.45454545454</td>\n",
       "        </tr>\n",
       "        <tr>\n",
       "            <td>Admin Offices</td>\n",
       "            <td>71791.88888888889</td>\n",
       "        </tr>\n",
       "        <tr>\n",
       "            <td>Sales</td>\n",
       "            <td>69061.25806451614</td>\n",
       "        </tr>\n",
       "        <tr>\n",
       "            <td>Production       </td>\n",
       "            <td>59953.545454545456</td>\n",
       "        </tr>\n",
       "    </tbody>\n",
       "</table>"
      ],
      "text/plain": [
       "[('Executive Office', 250000.0),\n",
       " ('IT/IS', 97064.64),\n",
       " ('Software Engineering', 94989.45454545454),\n",
       " ('Admin Offices', 71791.88888888889),\n",
       " ('Sales', 69061.25806451614),\n",
       " ('Production       ', 59953.545454545456)]"
      ]
     },
     "execution_count": 74,
     "metadata": {},
     "output_type": "execute_result"
    }
   ],
   "source": [
    "%%sql\n",
    "\n",
    "SELECT Department, AVG(Salary) AS rata_rata_gaji\n",
    "FROM employees\n",
    "GROUP BY Department\n",
    "ORDER BY rata_rata_gaji DESC;"
   ]
  },
  {
   "cell_type": "markdown",
   "id": "cc42d4ef-77e2-4414-ba7c-809ad6b6e543",
   "metadata": {},
   "source": [
    "### 3.5 Jumlah Bawahan per Manajer (ManagerName)"
   ]
  },
  {
   "cell_type": "code",
   "execution_count": 82,
   "id": "cfbb47c7-b606-4ac6-8c81-a72a33cbee6d",
   "metadata": {},
   "outputs": [
    {
     "name": "stdout",
     "output_type": "stream",
     "text": [
      " * sqlite:///hr_database.db\n",
      "Done.\n"
     ]
    },
    {
     "data": {
      "text/html": [
       "<table>\n",
       "    <thead>\n",
       "        <tr>\n",
       "            <th>ManagerName</th>\n",
       "            <th>jumlah_bawahan</th>\n",
       "        </tr>\n",
       "    </thead>\n",
       "    <tbody>\n",
       "        <tr>\n",
       "            <td>Michael Albert</td>\n",
       "            <td>22</td>\n",
       "        </tr>\n",
       "        <tr>\n",
       "            <td>Kissy Sullivan</td>\n",
       "            <td>22</td>\n",
       "        </tr>\n",
       "        <tr>\n",
       "            <td>Kelley Spirea</td>\n",
       "            <td>22</td>\n",
       "        </tr>\n",
       "        <tr>\n",
       "            <td>Elijiah Gray</td>\n",
       "            <td>22</td>\n",
       "        </tr>\n",
       "        <tr>\n",
       "            <td>Brannon Miller</td>\n",
       "            <td>22</td>\n",
       "        </tr>\n",
       "        <tr>\n",
       "            <td>Webster Butler</td>\n",
       "            <td>21</td>\n",
       "        </tr>\n",
       "        <tr>\n",
       "            <td>Ketsia Liebig</td>\n",
       "            <td>21</td>\n",
       "        </tr>\n",
       "        <tr>\n",
       "            <td>David Stanley</td>\n",
       "            <td>21</td>\n",
       "        </tr>\n",
       "        <tr>\n",
       "            <td>Amy Dunn</td>\n",
       "            <td>21</td>\n",
       "        </tr>\n",
       "        <tr>\n",
       "            <td>Janet King</td>\n",
       "            <td>19</td>\n",
       "        </tr>\n",
       "        <tr>\n",
       "            <td>Simon Roup</td>\n",
       "            <td>17</td>\n",
       "        </tr>\n",
       "        <tr>\n",
       "            <td>Peter Monroe</td>\n",
       "            <td>14</td>\n",
       "        </tr>\n",
       "        <tr>\n",
       "            <td>John Smith</td>\n",
       "            <td>14</td>\n",
       "        </tr>\n",
       "        <tr>\n",
       "            <td>Lynn Daneault</td>\n",
       "            <td>13</td>\n",
       "        </tr>\n",
       "        <tr>\n",
       "            <td>Alex Sweetwater</td>\n",
       "            <td>9</td>\n",
       "        </tr>\n",
       "        <tr>\n",
       "            <td>Brian Champaigne</td>\n",
       "            <td>8</td>\n",
       "        </tr>\n",
       "        <tr>\n",
       "            <td>Jennifer Zamora</td>\n",
       "            <td>7</td>\n",
       "        </tr>\n",
       "        <tr>\n",
       "            <td>Brandon R. LeBlanc</td>\n",
       "            <td>7</td>\n",
       "        </tr>\n",
       "        <tr>\n",
       "            <td>Eric Dougall</td>\n",
       "            <td>4</td>\n",
       "        </tr>\n",
       "        <tr>\n",
       "            <td>Debra Houlihan</td>\n",
       "            <td>3</td>\n",
       "        </tr>\n",
       "        <tr>\n",
       "            <td>Board of Directors</td>\n",
       "            <td>2</td>\n",
       "        </tr>\n",
       "    </tbody>\n",
       "</table>"
      ],
      "text/plain": [
       "[('Michael Albert', 22),\n",
       " ('Kissy Sullivan', 22),\n",
       " ('Kelley Spirea', 22),\n",
       " ('Elijiah Gray', 22),\n",
       " ('Brannon Miller', 22),\n",
       " ('Webster Butler', 21),\n",
       " ('Ketsia Liebig', 21),\n",
       " ('David Stanley', 21),\n",
       " ('Amy Dunn', 21),\n",
       " ('Janet King', 19),\n",
       " ('Simon Roup', 17),\n",
       " ('Peter Monroe', 14),\n",
       " ('John Smith', 14),\n",
       " ('Lynn Daneault', 13),\n",
       " ('Alex Sweetwater', 9),\n",
       " ('Brian Champaigne', 8),\n",
       " ('Jennifer Zamora', 7),\n",
       " ('Brandon R. LeBlanc', 7),\n",
       " ('Eric Dougall', 4),\n",
       " ('Debra Houlihan', 3),\n",
       " ('Board of Directors', 2)]"
      ]
     },
     "execution_count": 82,
     "metadata": {},
     "output_type": "execute_result"
    }
   ],
   "source": [
    "%%sql\n",
    "\n",
    "SELECT ManagerName, COUNT(*) AS jumlah_bawahan\n",
    "FROM employees\n",
    "WHERE ManagerName IS NOT NULL\n",
    "GROUP BY ManagerName\n",
    "ORDER BY jumlah_bawahan DESC;"
   ]
  },
  {
   "cell_type": "markdown",
   "id": "886505ff-45ef-4c7d-bea1-41598da38ff2",
   "metadata": {
    "jp-MarkdownHeadingCollapsed": true
   },
   "source": [
    "## 3. Analisis Gaji"
   ]
  },
  {
   "cell_type": "markdown",
   "id": "d2e5de57-9156-4428-a26d-fd8d3aeb047b",
   "metadata": {},
   "source": [
    "### 3.1 Rata-rata, Maksimum, dan Minimum Gaji"
   ]
  },
  {
   "cell_type": "code",
   "execution_count": 89,
   "id": "c460f444-7faf-458a-bddd-99b2396b33c1",
   "metadata": {},
   "outputs": [
    {
     "name": "stdout",
     "output_type": "stream",
     "text": [
      " * sqlite:///hr_database.db\n",
      "Done.\n"
     ]
    },
    {
     "data": {
      "text/html": [
       "<table>\n",
       "    <thead>\n",
       "        <tr>\n",
       "            <th>rata_rata_gaji</th>\n",
       "            <th>gaji_maksimum</th>\n",
       "            <th>gaji_minimum</th>\n",
       "        </tr>\n",
       "    </thead>\n",
       "    <tbody>\n",
       "        <tr>\n",
       "            <td>69020.6848874598</td>\n",
       "            <td>250000</td>\n",
       "            <td>45046</td>\n",
       "        </tr>\n",
       "    </tbody>\n",
       "</table>"
      ],
      "text/plain": [
       "[(69020.6848874598, 250000, 45046)]"
      ]
     },
     "execution_count": 89,
     "metadata": {},
     "output_type": "execute_result"
    }
   ],
   "source": [
    "%%sql\n",
    "SELECT \n",
    "    AVG(Salary) AS rata_rata_gaji,\n",
    "    MAX(Salary) AS gaji_maksimum,\n",
    "    MIN(Salary) AS gaji_minimum\n",
    "FROM employees;"
   ]
  },
  {
   "cell_type": "markdown",
   "id": "b79afb6b-3e49-4d31-94fe-7f7caa43eb16",
   "metadata": {},
   "source": [
    "### 3.2 Distribusi Gaji berdasarkan Gender (Sex)"
   ]
  },
  {
   "cell_type": "code",
   "execution_count": 93,
   "id": "95b87493-fdb5-44fb-9b88-130558cdbb25",
   "metadata": {},
   "outputs": [
    {
     "name": "stdout",
     "output_type": "stream",
     "text": [
      " * sqlite:///hr_database.db\n",
      "Done.\n"
     ]
    },
    {
     "data": {
      "text/html": [
       "<table>\n",
       "    <thead>\n",
       "        <tr>\n",
       "            <th>Sex</th>\n",
       "            <th>jumlah_karyawan</th>\n",
       "            <th>rata_rata_gaji</th>\n",
       "            <th>gaji_tertinggi</th>\n",
       "            <th>gaji_terendah</th>\n",
       "        </tr>\n",
       "    </thead>\n",
       "    <tbody>\n",
       "        <tr>\n",
       "            <td>M </td>\n",
       "            <td>135</td>\n",
       "            <td>70629.4</td>\n",
       "            <td>178000</td>\n",
       "            <td>45115</td>\n",
       "        </tr>\n",
       "        <tr>\n",
       "            <td>F</td>\n",
       "            <td>176</td>\n",
       "            <td>67786.72727272728</td>\n",
       "            <td>250000</td>\n",
       "            <td>45046</td>\n",
       "        </tr>\n",
       "    </tbody>\n",
       "</table>"
      ],
      "text/plain": [
       "[('M ', 135, 70629.4, 178000, 45115),\n",
       " ('F', 176, 67786.72727272728, 250000, 45046)]"
      ]
     },
     "execution_count": 93,
     "metadata": {},
     "output_type": "execute_result"
    }
   ],
   "source": [
    "%%sql\n",
    "SELECT \n",
    "    Sex, \n",
    "    COUNT(*) AS jumlah_karyawan,\n",
    "    AVG(Salary) AS rata_rata_gaji,\n",
    "    MAX(Salary) AS gaji_tertinggi,\n",
    "    MIN(Salary) AS gaji_terendah\n",
    "FROM employees\n",
    "GROUP BY Sex\n",
    "ORDER BY rata_rata_gaji DESC;"
   ]
  },
  {
   "cell_type": "markdown",
   "id": "f60796ff-e190-4c14-b494-04797a518b49",
   "metadata": {},
   "source": [
    "### 3.3 Distribusi Gaji berdasarkan Status Pernikahan (MaritalDesc)"
   ]
  },
  {
   "cell_type": "code",
   "execution_count": 97,
   "id": "04fd6a37-135c-4b53-b281-b63d4945e1ae",
   "metadata": {},
   "outputs": [
    {
     "name": "stdout",
     "output_type": "stream",
     "text": [
      " * sqlite:///hr_database.db\n",
      "Done.\n"
     ]
    },
    {
     "data": {
      "text/html": [
       "<table>\n",
       "    <thead>\n",
       "        <tr>\n",
       "            <th>MaritalDesc</th>\n",
       "            <th>jumlah_karyawan</th>\n",
       "            <th>rata_rata_gaji</th>\n",
       "            <th>gaji_tertinggi</th>\n",
       "            <th>gaji_terendah</th>\n",
       "        </tr>\n",
       "    </thead>\n",
       "    <tbody>\n",
       "        <tr>\n",
       "            <td>Single</td>\n",
       "            <td>137</td>\n",
       "            <td>70052.57664233577</td>\n",
       "            <td>220450</td>\n",
       "            <td>45395</td>\n",
       "        </tr>\n",
       "        <tr>\n",
       "            <td>Married</td>\n",
       "            <td>124</td>\n",
       "            <td>69827.71774193548</td>\n",
       "            <td>250000</td>\n",
       "            <td>45433</td>\n",
       "        </tr>\n",
       "        <tr>\n",
       "            <td>Widowed</td>\n",
       "            <td>8</td>\n",
       "            <td>65195.125</td>\n",
       "            <td>107226</td>\n",
       "            <td>45046</td>\n",
       "        </tr>\n",
       "        <tr>\n",
       "            <td>Divorced</td>\n",
       "            <td>30</td>\n",
       "            <td>64427.333333333336</td>\n",
       "            <td>148999</td>\n",
       "            <td>45069</td>\n",
       "        </tr>\n",
       "        <tr>\n",
       "            <td>Separated</td>\n",
       "            <td>12</td>\n",
       "            <td>62934.333333333336</td>\n",
       "            <td>74417</td>\n",
       "            <td>52984</td>\n",
       "        </tr>\n",
       "    </tbody>\n",
       "</table>"
      ],
      "text/plain": [
       "[('Single', 137, 70052.57664233577, 220450, 45395),\n",
       " ('Married', 124, 69827.71774193548, 250000, 45433),\n",
       " ('Widowed', 8, 65195.125, 107226, 45046),\n",
       " ('Divorced', 30, 64427.333333333336, 148999, 45069),\n",
       " ('Separated', 12, 62934.333333333336, 74417, 52984)]"
      ]
     },
     "execution_count": 97,
     "metadata": {},
     "output_type": "execute_result"
    }
   ],
   "source": [
    "%%sql\n",
    "SELECT \n",
    "    MaritalDesc, \n",
    "    COUNT(*) AS jumlah_karyawan,\n",
    "    AVG(Salary) AS rata_rata_gaji,\n",
    "    MAX(Salary) AS gaji_tertinggi,\n",
    "    MIN(Salary) AS gaji_terendah\n",
    "FROM employees\n",
    "GROUP BY MaritalDesc\n",
    "ORDER BY rata_rata_gaji DESC;"
   ]
  },
  {
   "cell_type": "markdown",
   "id": "3e36c559-8de0-4a1a-b4ff-c64939442fb0",
   "metadata": {},
   "source": [
    "### 3.4 Top 5 Gaji Tertinggi"
   ]
  },
  {
   "cell_type": "code",
   "execution_count": 100,
   "id": "6b8e727a-0ef4-49d3-97d5-a5ad615dc1b9",
   "metadata": {},
   "outputs": [
    {
     "name": "stdout",
     "output_type": "stream",
     "text": [
      " * sqlite:///hr_database.db\n",
      "Done.\n"
     ]
    },
    {
     "data": {
      "text/html": [
       "<table>\n",
       "    <thead>\n",
       "        <tr>\n",
       "            <th>Employee_Name</th>\n",
       "            <th>Position</th>\n",
       "            <th>Department</th>\n",
       "            <th>Salary</th>\n",
       "        </tr>\n",
       "    </thead>\n",
       "    <tbody>\n",
       "        <tr>\n",
       "            <td>King, Janet</td>\n",
       "            <td>President &amp; CEO</td>\n",
       "            <td>Executive Office</td>\n",
       "            <td>250000</td>\n",
       "        </tr>\n",
       "        <tr>\n",
       "            <td>Zamora, Jennifer</td>\n",
       "            <td>CIO</td>\n",
       "            <td>IT/IS</td>\n",
       "            <td>220450</td>\n",
       "        </tr>\n",
       "        <tr>\n",
       "            <td>Houlihan, Debra</td>\n",
       "            <td>Director of Sales</td>\n",
       "            <td>Sales</td>\n",
       "            <td>180000</td>\n",
       "        </tr>\n",
       "        <tr>\n",
       "            <td>Foss, Jason</td>\n",
       "            <td>IT Director</td>\n",
       "            <td>IT/IS</td>\n",
       "            <td>178000</td>\n",
       "        </tr>\n",
       "        <tr>\n",
       "            <td>Corleone, Vito</td>\n",
       "            <td>Director of Operations</td>\n",
       "            <td>Production       </td>\n",
       "            <td>170500</td>\n",
       "        </tr>\n",
       "    </tbody>\n",
       "</table>"
      ],
      "text/plain": [
       "[('King, Janet', 'President & CEO', 'Executive Office', 250000),\n",
       " ('Zamora, Jennifer', 'CIO', 'IT/IS', 220450),\n",
       " ('Houlihan, Debra', 'Director of Sales', 'Sales', 180000),\n",
       " ('Foss, Jason', 'IT Director', 'IT/IS', 178000),\n",
       " ('Corleone, Vito', 'Director of Operations', 'Production       ', 170500)]"
      ]
     },
     "execution_count": 100,
     "metadata": {},
     "output_type": "execute_result"
    }
   ],
   "source": [
    "%%sql\n",
    "SELECT Employee_Name, Position, Department, Salary\n",
    "FROM employees\n",
    "ORDER BY Salary DESC\n",
    "LIMIT 5;"
   ]
  },
  {
   "cell_type": "markdown",
   "id": "15f3801f-0e5f-40f2-86ab-e8f6d0600515",
   "metadata": {},
   "source": [
    "### 3.5 Top 5 Gaji Terendah"
   ]
  },
  {
   "cell_type": "code",
   "execution_count": 103,
   "id": "ce30c13f-3260-4108-80c3-7da6a2c00d97",
   "metadata": {},
   "outputs": [
    {
     "name": "stdout",
     "output_type": "stream",
     "text": [
      " * sqlite:///hr_database.db\n",
      "Done.\n"
     ]
    },
    {
     "data": {
      "text/html": [
       "<table>\n",
       "    <thead>\n",
       "        <tr>\n",
       "            <th>Employee_Name</th>\n",
       "            <th>Position</th>\n",
       "            <th>Department</th>\n",
       "            <th>Salary</th>\n",
       "        </tr>\n",
       "    </thead>\n",
       "    <tbody>\n",
       "        <tr>\n",
       "            <td>Zima, Colleen</td>\n",
       "            <td>Production Technician I</td>\n",
       "            <td>Production       </td>\n",
       "            <td>45046</td>\n",
       "        </tr>\n",
       "        <tr>\n",
       "            <td>Jacobi, Hannah  </td>\n",
       "            <td>Production Technician I</td>\n",
       "            <td>Production       </td>\n",
       "            <td>45069</td>\n",
       "        </tr>\n",
       "        <tr>\n",
       "            <td>Rhoads, Thomas</td>\n",
       "            <td>Production Technician I</td>\n",
       "            <td>Production       </td>\n",
       "            <td>45115</td>\n",
       "        </tr>\n",
       "        <tr>\n",
       "            <td>Mahoney, Lauren  </td>\n",
       "            <td>Production Technician I</td>\n",
       "            <td>Production       </td>\n",
       "            <td>45395</td>\n",
       "        </tr>\n",
       "        <tr>\n",
       "            <td>Kirill, Alexandra  </td>\n",
       "            <td>Production Technician I</td>\n",
       "            <td>Production       </td>\n",
       "            <td>45433</td>\n",
       "        </tr>\n",
       "    </tbody>\n",
       "</table>"
      ],
      "text/plain": [
       "[('Zima, Colleen', 'Production Technician I', 'Production       ', 45046),\n",
       " ('Jacobi, Hannah  ', 'Production Technician I', 'Production       ', 45069),\n",
       " ('Rhoads, Thomas', 'Production Technician I', 'Production       ', 45115),\n",
       " ('Mahoney, Lauren  ', 'Production Technician I', 'Production       ', 45395),\n",
       " ('Kirill, Alexandra  ', 'Production Technician I', 'Production       ', 45433)]"
      ]
     },
     "execution_count": 103,
     "metadata": {},
     "output_type": "execute_result"
    }
   ],
   "source": [
    "%%sql\n",
    "SELECT Employee_Name, Position, Department, Salary\n",
    "FROM employees\n",
    "ORDER BY Salary ASC\n",
    "LIMIT 5;"
   ]
  },
  {
   "cell_type": "markdown",
   "id": "f2e61461-edf8-4ea4-a63a-44193e6a7912",
   "metadata": {},
   "source": [
    "### 3.6 Distribusi Gaji Berdasarkan Departemen"
   ]
  },
  {
   "cell_type": "code",
   "execution_count": 106,
   "id": "646d6d11-cfa1-43c8-b3b0-cd99cfa099d9",
   "metadata": {},
   "outputs": [
    {
     "name": "stdout",
     "output_type": "stream",
     "text": [
      " * sqlite:///hr_database.db\n",
      "Done.\n"
     ]
    },
    {
     "data": {
      "text/html": [
       "<table>\n",
       "    <thead>\n",
       "        <tr>\n",
       "            <th>Department</th>\n",
       "            <th>jumlah_karyawan</th>\n",
       "            <th>rata_rata_gaji</th>\n",
       "        </tr>\n",
       "    </thead>\n",
       "    <tbody>\n",
       "        <tr>\n",
       "            <td>Executive Office</td>\n",
       "            <td>1</td>\n",
       "            <td>250000.0</td>\n",
       "        </tr>\n",
       "        <tr>\n",
       "            <td>IT/IS</td>\n",
       "            <td>50</td>\n",
       "            <td>97064.64</td>\n",
       "        </tr>\n",
       "        <tr>\n",
       "            <td>Software Engineering</td>\n",
       "            <td>11</td>\n",
       "            <td>94989.45454545454</td>\n",
       "        </tr>\n",
       "        <tr>\n",
       "            <td>Admin Offices</td>\n",
       "            <td>9</td>\n",
       "            <td>71791.88888888889</td>\n",
       "        </tr>\n",
       "        <tr>\n",
       "            <td>Sales</td>\n",
       "            <td>31</td>\n",
       "            <td>69061.25806451614</td>\n",
       "        </tr>\n",
       "        <tr>\n",
       "            <td>Production       </td>\n",
       "            <td>209</td>\n",
       "            <td>59953.545454545456</td>\n",
       "        </tr>\n",
       "    </tbody>\n",
       "</table>"
      ],
      "text/plain": [
       "[('Executive Office', 1, 250000.0),\n",
       " ('IT/IS', 50, 97064.64),\n",
       " ('Software Engineering', 11, 94989.45454545454),\n",
       " ('Admin Offices', 9, 71791.88888888889),\n",
       " ('Sales', 31, 69061.25806451614),\n",
       " ('Production       ', 209, 59953.545454545456)]"
      ]
     },
     "execution_count": 106,
     "metadata": {},
     "output_type": "execute_result"
    }
   ],
   "source": [
    "%%sql\n",
    "SELECT Department, COUNT(*) AS jumlah_karyawan, AVG(Salary) AS rata_rata_gaji\n",
    "FROM employees\n",
    "GROUP BY Department\n",
    "ORDER BY rata_rata_gaji DESC;"
   ]
  },
  {
   "cell_type": "markdown",
   "id": "05be8c9c-3593-4470-84e2-4bf706cf5729",
   "metadata": {},
   "source": [
    "### 3.7 Standar Deviasi Gaji (jika ingin tahu ketimpangan)"
   ]
  },
  {
   "cell_type": "code",
   "execution_count": 111,
   "id": "455bc47f-bed9-4086-a478-b44962205632",
   "metadata": {},
   "outputs": [
    {
     "name": "stdout",
     "output_type": "stream",
     "text": [
      " * sqlite:///hr_database.db\n",
      "Done.\n"
     ]
    },
    {
     "data": {
      "text/html": [
       "<table>\n",
       "    <thead>\n",
       "        <tr>\n",
       "            <th>rata_rata_gaji</th>\n",
       "            <th>rentang_gaji</th>\n",
       "            <th>varians_gaji</th>\n",
       "        </tr>\n",
       "    </thead>\n",
       "    <tbody>\n",
       "        <tr>\n",
       "            <td>69020.6848874598</td>\n",
       "            <td>204954</td>\n",
       "            <td>630821473.6306077</td>\n",
       "        </tr>\n",
       "    </tbody>\n",
       "</table>"
      ],
      "text/plain": [
       "[(69020.6848874598, 204954, 630821473.6306077)]"
      ]
     },
     "execution_count": 111,
     "metadata": {},
     "output_type": "execute_result"
    }
   ],
   "source": [
    "%%sql\n",
    "SELECT \n",
    "    AVG(Salary) AS rata_rata_gaji,\n",
    "    MAX(Salary) - MIN(Salary) AS rentang_gaji,\n",
    "    AVG((Salary - (SELECT AVG(Salary) FROM employees)) * (Salary - (SELECT AVG(Salary) FROM employees))) \n",
    "        AS varians_gaji\n",
    "FROM employees;"
   ]
  },
  {
   "cell_type": "markdown",
   "id": "69426cde-c407-41a3-8996-9dba34382981",
   "metadata": {
    "jp-MarkdownHeadingCollapsed": true
   },
   "source": [
    "## 4. Kinerja dan Produktivitas"
   ]
  },
  {
   "cell_type": "markdown",
   "id": "6b941445-49f8-4b77-9cf8-49af68c01f25",
   "metadata": {},
   "source": [
    "### 4.1 Rata-rata Survei Keterlibatan & Kepuasan"
   ]
  },
  {
   "cell_type": "code",
   "execution_count": 117,
   "id": "2bac2da9-2248-4bae-ac9c-770ad55cafda",
   "metadata": {},
   "outputs": [
    {
     "name": "stdout",
     "output_type": "stream",
     "text": [
      " * sqlite:///hr_database.db\n",
      "Done.\n"
     ]
    },
    {
     "data": {
      "text/html": [
       "<table>\n",
       "    <thead>\n",
       "        <tr>\n",
       "            <th>rata2_engagement_survey</th>\n",
       "            <th>rata2_kepuasan_karyawan</th>\n",
       "        </tr>\n",
       "    </thead>\n",
       "    <tbody>\n",
       "        <tr>\n",
       "            <td>4.11</td>\n",
       "            <td>3.89</td>\n",
       "        </tr>\n",
       "    </tbody>\n",
       "</table>"
      ],
      "text/plain": [
       "[(4.11, 3.89)]"
      ]
     },
     "execution_count": 117,
     "metadata": {},
     "output_type": "execute_result"
    }
   ],
   "source": [
    "%%sql\n",
    "SELECT \n",
    "    ROUND(AVG(EngagementSurvey), 2) AS rata2_engagement_survey,\n",
    "    ROUND(AVG(EmpSatisfaction), 2) AS rata2_kepuasan_karyawan\n",
    "FROM employees;"
   ]
  },
  {
   "cell_type": "markdown",
   "id": "d6184ba1-3c40-4673-8f2e-f64dbfc31c6c",
   "metadata": {},
   "source": [
    "### 4.2 Total dan Rata-rata Proyek Spesial"
   ]
  },
  {
   "cell_type": "code",
   "execution_count": 122,
   "id": "1bc671ae-f058-4304-b5c9-7f4326b483ce",
   "metadata": {},
   "outputs": [
    {
     "name": "stdout",
     "output_type": "stream",
     "text": [
      " * sqlite:///hr_database.db\n",
      "Done.\n"
     ]
    },
    {
     "data": {
      "text/html": [
       "<table>\n",
       "    <thead>\n",
       "        <tr>\n",
       "            <th>total_proyek_spesial</th>\n",
       "            <th>rata2_proyek_spesial</th>\n",
       "        </tr>\n",
       "    </thead>\n",
       "    <tbody>\n",
       "        <tr>\n",
       "            <td>379</td>\n",
       "            <td>1.22</td>\n",
       "        </tr>\n",
       "    </tbody>\n",
       "</table>"
      ],
      "text/plain": [
       "[(379, 1.22)]"
      ]
     },
     "execution_count": 122,
     "metadata": {},
     "output_type": "execute_result"
    }
   ],
   "source": [
    "%%sql\n",
    "SELECT \n",
    "    SUM(SpecialProjectsCount) AS total_proyek_spesial,\n",
    "    ROUND(AVG(SpecialProjectsCount), 2) AS rata2_proyek_spesial\n",
    "FROM employees;"
   ]
  },
  {
   "cell_type": "markdown",
   "id": "0bdf5b88-64e1-4366-a502-3f30df7c8607",
   "metadata": {},
   "source": [
    "### 4.3 Rata-rata Absensi dan Jumlah Totalnya"
   ]
  },
  {
   "cell_type": "code",
   "execution_count": 125,
   "id": "9cc60bfe-40a0-4190-be71-45722a154ae1",
   "metadata": {},
   "outputs": [
    {
     "name": "stdout",
     "output_type": "stream",
     "text": [
      " * sqlite:///hr_database.db\n",
      "Done.\n"
     ]
    },
    {
     "data": {
      "text/html": [
       "<table>\n",
       "    <thead>\n",
       "        <tr>\n",
       "            <th>total_absen</th>\n",
       "            <th>rata2_absen</th>\n",
       "        </tr>\n",
       "    </thead>\n",
       "    <tbody>\n",
       "        <tr>\n",
       "            <td>3184</td>\n",
       "            <td>10.24</td>\n",
       "        </tr>\n",
       "    </tbody>\n",
       "</table>"
      ],
      "text/plain": [
       "[(3184, 10.24)]"
      ]
     },
     "execution_count": 125,
     "metadata": {},
     "output_type": "execute_result"
    }
   ],
   "source": [
    "%%sql\n",
    "SELECT \n",
    "    SUM(Absences) AS total_absen,\n",
    "    ROUND(AVG(Absences), 2) AS rata2_absen\n",
    "FROM employees;"
   ]
  },
  {
   "cell_type": "markdown",
   "id": "2a172102-2964-4883-9914-6694bf8183dc",
   "metadata": {},
   "source": [
    "### 4.4 Rata-rata Keterlambatan 30 Hari Terakhir"
   ]
  },
  {
   "cell_type": "code",
   "execution_count": 128,
   "id": "da4cddb9-9e20-4a19-a0d5-f66793f5aff7",
   "metadata": {},
   "outputs": [
    {
     "name": "stdout",
     "output_type": "stream",
     "text": [
      " * sqlite:///hr_database.db\n",
      "Done.\n"
     ]
    },
    {
     "data": {
      "text/html": [
       "<table>\n",
       "    <thead>\n",
       "        <tr>\n",
       "            <th>total_terlambat</th>\n",
       "            <th>rata2_terlambat</th>\n",
       "        </tr>\n",
       "    </thead>\n",
       "    <tbody>\n",
       "        <tr>\n",
       "            <td>129</td>\n",
       "            <td>0.41</td>\n",
       "        </tr>\n",
       "    </tbody>\n",
       "</table>"
      ],
      "text/plain": [
       "[(129, 0.41)]"
      ]
     },
     "execution_count": 128,
     "metadata": {},
     "output_type": "execute_result"
    }
   ],
   "source": [
    "%%sql\n",
    "SELECT \n",
    "    SUM(DaysLateLast30) AS total_terlambat,\n",
    "    ROUND(AVG(DaysLateLast30), 2) AS rata2_terlambat\n",
    "FROM employees;"
   ]
  },
  {
   "cell_type": "markdown",
   "id": "4841b6b5-2f7b-43f1-a82e-2f310647be78",
   "metadata": {},
   "source": [
    "### 4.5 Distribusi Kinerja vs Absensi (Korelasi kasar)"
   ]
  },
  {
   "cell_type": "code",
   "execution_count": 131,
   "id": "a9b445e7-1302-4d4f-9c85-95f3f969c5dc",
   "metadata": {},
   "outputs": [
    {
     "name": "stdout",
     "output_type": "stream",
     "text": [
      " * sqlite:///hr_database.db\n",
      "Done.\n"
     ]
    },
    {
     "data": {
      "text/html": [
       "<table>\n",
       "    <thead>\n",
       "        <tr>\n",
       "            <th>PerformanceScore</th>\n",
       "            <th>jumlah_karyawan</th>\n",
       "            <th>rata2_absen</th>\n",
       "            <th>rata2_gaji</th>\n",
       "        </tr>\n",
       "    </thead>\n",
       "    <tbody>\n",
       "        <tr>\n",
       "            <td>Needs Improvement</td>\n",
       "            <td>18</td>\n",
       "            <td>11.33</td>\n",
       "            <td>68407.56</td>\n",
       "        </tr>\n",
       "        <tr>\n",
       "            <td>Exceeds</td>\n",
       "            <td>37</td>\n",
       "            <td>10.49</td>\n",
       "            <td>77144.86</td>\n",
       "        </tr>\n",
       "        <tr>\n",
       "            <td>Fully Meets</td>\n",
       "            <td>243</td>\n",
       "            <td>10.22</td>\n",
       "            <td>68366.72</td>\n",
       "        </tr>\n",
       "        <tr>\n",
       "            <td>PIP</td>\n",
       "            <td>13</td>\n",
       "            <td>8.31</td>\n",
       "            <td>58971.08</td>\n",
       "        </tr>\n",
       "    </tbody>\n",
       "</table>"
      ],
      "text/plain": [
       "[('Needs Improvement', 18, 11.33, 68407.56),\n",
       " ('Exceeds', 37, 10.49, 77144.86),\n",
       " ('Fully Meets', 243, 10.22, 68366.72),\n",
       " ('PIP', 13, 8.31, 58971.08)]"
      ]
     },
     "execution_count": 131,
     "metadata": {},
     "output_type": "execute_result"
    }
   ],
   "source": [
    "%%sql\n",
    "SELECT \n",
    "    PerformanceScore,\n",
    "    COUNT(*) AS jumlah_karyawan,\n",
    "    ROUND(AVG(Absences), 2) AS rata2_absen,\n",
    "    ROUND(AVG(Salary), 2) AS rata2_gaji\n",
    "FROM employees\n",
    "GROUP BY PerformanceScore\n",
    "ORDER BY rata2_absen DESC;"
   ]
  },
  {
   "cell_type": "markdown",
   "id": "e555f80c-8d14-4d6e-bc17-aa3a0a34a6ed",
   "metadata": {},
   "source": [
    "### 4.6 Rata-rata Skor Kinerja Berdasarkan Departemen"
   ]
  },
  {
   "cell_type": "code",
   "execution_count": 134,
   "id": "0239f109-314c-4123-b341-ec8f67a8bd0e",
   "metadata": {},
   "outputs": [
    {
     "name": "stdout",
     "output_type": "stream",
     "text": [
      " * sqlite:///hr_database.db\n",
      "Done.\n"
     ]
    },
    {
     "data": {
      "text/html": [
       "<table>\n",
       "    <thead>\n",
       "        <tr>\n",
       "            <th>Department</th>\n",
       "            <th>jumlah_karyawan</th>\n",
       "            <th>rata2_absen</th>\n",
       "            <th>rata2_engagement</th>\n",
       "        </tr>\n",
       "    </thead>\n",
       "    <tbody>\n",
       "        <tr>\n",
       "            <td>Executive Office</td>\n",
       "            <td>1</td>\n",
       "            <td>10.0</td>\n",
       "            <td>4.83</td>\n",
       "        </tr>\n",
       "        <tr>\n",
       "            <td>Admin Offices</td>\n",
       "            <td>9</td>\n",
       "            <td>8.67</td>\n",
       "            <td>4.39</td>\n",
       "        </tr>\n",
       "        <tr>\n",
       "            <td>IT/IS</td>\n",
       "            <td>50</td>\n",
       "            <td>10.44</td>\n",
       "            <td>4.15</td>\n",
       "        </tr>\n",
       "        <tr>\n",
       "            <td>Production       </td>\n",
       "            <td>209</td>\n",
       "            <td>10.14</td>\n",
       "            <td>4.13</td>\n",
       "        </tr>\n",
       "        <tr>\n",
       "            <td>Software Engineering</td>\n",
       "            <td>11</td>\n",
       "            <td>8.73</td>\n",
       "            <td>4.06</td>\n",
       "        </tr>\n",
       "        <tr>\n",
       "            <td>Sales</td>\n",
       "            <td>31</td>\n",
       "            <td>11.55</td>\n",
       "            <td>3.82</td>\n",
       "        </tr>\n",
       "    </tbody>\n",
       "</table>"
      ],
      "text/plain": [
       "[('Executive Office', 1, 10.0, 4.83),\n",
       " ('Admin Offices', 9, 8.67, 4.39),\n",
       " ('IT/IS', 50, 10.44, 4.15),\n",
       " ('Production       ', 209, 10.14, 4.13),\n",
       " ('Software Engineering', 11, 8.73, 4.06),\n",
       " ('Sales', 31, 11.55, 3.82)]"
      ]
     },
     "execution_count": 134,
     "metadata": {},
     "output_type": "execute_result"
    }
   ],
   "source": [
    "%%sql\n",
    "SELECT \n",
    "    Department,\n",
    "    COUNT(*) AS jumlah_karyawan,\n",
    "    ROUND(AVG(Absences), 2) AS rata2_absen,\n",
    "    ROUND(AVG(EngagementSurvey), 2) AS rata2_engagement\n",
    "FROM employees\n",
    "GROUP BY Department\n",
    "ORDER BY rata2_engagement DESC;"
   ]
  },
  {
   "cell_type": "markdown",
   "id": "0528eef6-56f6-4971-a7ec-adb923a749bd",
   "metadata": {
    "jp-MarkdownHeadingCollapsed": true
   },
   "source": [
    "## 5. Turnover dan Terminasi"
   ]
  },
  {
   "cell_type": "markdown",
   "id": "a32e8f5e-834c-453c-a4f8-cbf3950395f7",
   "metadata": {},
   "source": [
    "### 5.1 Jumlah Karyawan yang Keluar"
   ]
  },
  {
   "cell_type": "code",
   "execution_count": 141,
   "id": "f7f99598-2c6a-4595-a861-97138572b5c7",
   "metadata": {},
   "outputs": [
    {
     "name": "stdout",
     "output_type": "stream",
     "text": [
      " * sqlite:///hr_database.db\n",
      "Done.\n"
     ]
    },
    {
     "data": {
      "text/html": [
       "<table>\n",
       "    <thead>\n",
       "        <tr>\n",
       "            <th>jumlah_keluar</th>\n",
       "        </tr>\n",
       "    </thead>\n",
       "    <tbody>\n",
       "        <tr>\n",
       "            <td>104</td>\n",
       "        </tr>\n",
       "    </tbody>\n",
       "</table>"
      ],
      "text/plain": [
       "[(104,)]"
      ]
     },
     "execution_count": 141,
     "metadata": {},
     "output_type": "execute_result"
    }
   ],
   "source": [
    "%%sql\n",
    "SELECT COUNT(*) AS jumlah_keluar\n",
    "FROM employees\n",
    "WHERE Termd = 1;"
   ]
  },
  {
   "cell_type": "markdown",
   "id": "9e308d56-797b-40ad-95a7-fb59035cce85",
   "metadata": {},
   "source": [
    "### 5.2 Distribusi Alasan Keluar"
   ]
  },
  {
   "cell_type": "code",
   "execution_count": 173,
   "id": "80eac8b2-e179-4867-9a16-e0c9fe388d9f",
   "metadata": {},
   "outputs": [
    {
     "name": "stdout",
     "output_type": "stream",
     "text": [
      " * sqlite:///hr_database.db\n",
      "Done.\n"
     ]
    },
    {
     "data": {
      "text/html": [
       "<table>\n",
       "    <thead>\n",
       "        <tr>\n",
       "            <th>TermReason</th>\n",
       "            <th>jumlah</th>\n",
       "        </tr>\n",
       "    </thead>\n",
       "    <tbody>\n",
       "        <tr>\n",
       "            <td>Another position</td>\n",
       "            <td>20</td>\n",
       "        </tr>\n",
       "        <tr>\n",
       "            <td>unhappy</td>\n",
       "            <td>14</td>\n",
       "        </tr>\n",
       "        <tr>\n",
       "            <td>more money</td>\n",
       "            <td>11</td>\n",
       "        </tr>\n",
       "        <tr>\n",
       "            <td>career change</td>\n",
       "            <td>9</td>\n",
       "        </tr>\n",
       "        <tr>\n",
       "            <td>hours</td>\n",
       "            <td>8</td>\n",
       "        </tr>\n",
       "        <tr>\n",
       "            <td>attendance</td>\n",
       "            <td>7</td>\n",
       "        </tr>\n",
       "        <tr>\n",
       "            <td>return to school</td>\n",
       "            <td>5</td>\n",
       "        </tr>\n",
       "        <tr>\n",
       "            <td>relocation out of area</td>\n",
       "            <td>5</td>\n",
       "        </tr>\n",
       "        <tr>\n",
       "            <td>retiring</td>\n",
       "            <td>4</td>\n",
       "        </tr>\n",
       "        <tr>\n",
       "            <td>performance</td>\n",
       "            <td>4</td>\n",
       "        </tr>\n",
       "        <tr>\n",
       "            <td>no-call, no-show</td>\n",
       "            <td>4</td>\n",
       "        </tr>\n",
       "        <tr>\n",
       "            <td>military</td>\n",
       "            <td>4</td>\n",
       "        </tr>\n",
       "        <tr>\n",
       "            <td>medical issues</td>\n",
       "            <td>3</td>\n",
       "        </tr>\n",
       "        <tr>\n",
       "            <td>maternity leave - did not return</td>\n",
       "            <td>3</td>\n",
       "        </tr>\n",
       "        <tr>\n",
       "            <td>gross misconduct</td>\n",
       "            <td>1</td>\n",
       "        </tr>\n",
       "        <tr>\n",
       "            <td>Learned that he is a gangster</td>\n",
       "            <td>1</td>\n",
       "        </tr>\n",
       "        <tr>\n",
       "            <td>Fatal attraction</td>\n",
       "            <td>1</td>\n",
       "        </tr>\n",
       "    </tbody>\n",
       "</table>"
      ],
      "text/plain": [
       "[('Another position', 20),\n",
       " ('unhappy', 14),\n",
       " ('more money', 11),\n",
       " ('career change', 9),\n",
       " ('hours', 8),\n",
       " ('attendance', 7),\n",
       " ('return to school', 5),\n",
       " ('relocation out of area', 5),\n",
       " ('retiring', 4),\n",
       " ('performance', 4),\n",
       " ('no-call, no-show', 4),\n",
       " ('military', 4),\n",
       " ('medical issues', 3),\n",
       " ('maternity leave - did not return', 3),\n",
       " ('gross misconduct', 1),\n",
       " ('Learned that he is a gangster', 1),\n",
       " ('Fatal attraction', 1)]"
      ]
     },
     "execution_count": 173,
     "metadata": {},
     "output_type": "execute_result"
    }
   ],
   "source": [
    "%%sql\n",
    "SELECT TermReason, COUNT(*) AS jumlah\n",
    "FROM employees\n",
    "WHERE Termd = 1\n",
    "GROUP BY TermReason\n",
    "ORDER BY jumlah DESC;"
   ]
  },
  {
   "cell_type": "markdown",
   "id": "3f9ec112-524a-4b7c-a14a-2886c8357aef",
   "metadata": {},
   "source": [
    "### 5.3 Status Pekerjaan Terkini (Aktif vs Tidak Aktif)"
   ]
  },
  {
   "cell_type": "code",
   "execution_count": 147,
   "id": "25488a2c-f649-4613-93cf-30d75aafc9e8",
   "metadata": {},
   "outputs": [
    {
     "name": "stdout",
     "output_type": "stream",
     "text": [
      " * sqlite:///hr_database.db\n",
      "Done.\n"
     ]
    },
    {
     "data": {
      "text/html": [
       "<table>\n",
       "    <thead>\n",
       "        <tr>\n",
       "            <th>EmploymentStatus</th>\n",
       "            <th>jumlah</th>\n",
       "        </tr>\n",
       "    </thead>\n",
       "    <tbody>\n",
       "        <tr>\n",
       "            <td>Active</td>\n",
       "            <td>207</td>\n",
       "        </tr>\n",
       "        <tr>\n",
       "            <td>Voluntarily Terminated</td>\n",
       "            <td>88</td>\n",
       "        </tr>\n",
       "        <tr>\n",
       "            <td>Terminated for Cause</td>\n",
       "            <td>16</td>\n",
       "        </tr>\n",
       "    </tbody>\n",
       "</table>"
      ],
      "text/plain": [
       "[('Active', 207), ('Voluntarily Terminated', 88), ('Terminated for Cause', 16)]"
      ]
     },
     "execution_count": 147,
     "metadata": {},
     "output_type": "execute_result"
    }
   ],
   "source": [
    "%%sql\n",
    "SELECT EmploymentStatus, COUNT(*) AS jumlah\n",
    "FROM employees\n",
    "GROUP BY EmploymentStatus\n",
    "ORDER BY jumlah DESC;"
   ]
  },
  {
   "cell_type": "markdown",
   "id": "2eda39c6-17d5-4b56-b09e-c28ae3814cc1",
   "metadata": {},
   "source": [
    "### 5.4. Rata-rata Lama Bekerja: Aktif vs Keluar"
   ]
  },
  {
   "cell_type": "code",
   "execution_count": 150,
   "id": "57ccdf37-4457-45a6-aec8-cac56929f9b8",
   "metadata": {},
   "outputs": [
    {
     "name": "stdout",
     "output_type": "stream",
     "text": [
      " * sqlite:///hr_database.db\n",
      "Done.\n"
     ]
    },
    {
     "data": {
      "text/html": [
       "<table>\n",
       "    <thead>\n",
       "        <tr>\n",
       "            <th>status_karyawan</th>\n",
       "            <th>rata2_hari_bekerja</th>\n",
       "        </tr>\n",
       "    </thead>\n",
       "    <tbody>\n",
       "        <tr>\n",
       "            <td>Aktif</td>\n",
       "            <td>None</td>\n",
       "        </tr>\n",
       "    </tbody>\n",
       "</table>"
      ],
      "text/plain": [
       "[('Aktif', None)]"
      ]
     },
     "execution_count": 150,
     "metadata": {},
     "output_type": "execute_result"
    }
   ],
   "source": [
    "%%sql\n",
    "SELECT \n",
    "    CASE \n",
    "        WHEN Termd = 1 THEN 'Keluar'\n",
    "        ELSE 'Aktif'\n",
    "    END AS status_karyawan,\n",
    "    ROUND(AVG(\n",
    "        CASE \n",
    "            WHEN Termd = 1 THEN julianday(DateofTermination) - julianday(DateofHire)\n",
    "            ELSE julianday('now') - julianday(DateofHire)\n",
    "        END\n",
    "    ), 0) AS rata2_hari_bekerja\n",
    "FROM employees\n",
    "WHERE DateofHire IS NOT NULL;"
   ]
  },
  {
   "cell_type": "markdown",
   "id": "0ff110bc-8ff9-41d7-bf0b-f0fa285cce10",
   "metadata": {},
   "source": [
    "### 5.6 Alasan Keluar Terbanyak per Departemen"
   ]
  },
  {
   "cell_type": "code",
   "execution_count": 159,
   "id": "dd5021c5-02ff-4e8b-b611-5d676d697ff4",
   "metadata": {},
   "outputs": [
    {
     "name": "stdout",
     "output_type": "stream",
     "text": [
      " * sqlite:///hr_database.db\n",
      "Done.\n"
     ]
    },
    {
     "data": {
      "text/html": [
       "<table>\n",
       "    <thead>\n",
       "        <tr>\n",
       "            <th>Department</th>\n",
       "            <th>TermReason</th>\n",
       "            <th>jumlah</th>\n",
       "        </tr>\n",
       "    </thead>\n",
       "    <tbody>\n",
       "        <tr>\n",
       "            <td>Admin Offices</td>\n",
       "            <td>no-call, no-show</td>\n",
       "            <td>1</td>\n",
       "        </tr>\n",
       "        <tr>\n",
       "            <td>Admin Offices</td>\n",
       "            <td>career change</td>\n",
       "            <td>1</td>\n",
       "        </tr>\n",
       "        <tr>\n",
       "            <td>IT/IS</td>\n",
       "            <td>performance</td>\n",
       "            <td>2</td>\n",
       "        </tr>\n",
       "        <tr>\n",
       "            <td>IT/IS</td>\n",
       "            <td>no-call, no-show</td>\n",
       "            <td>2</td>\n",
       "        </tr>\n",
       "        <tr>\n",
       "            <td>IT/IS</td>\n",
       "            <td>hours</td>\n",
       "            <td>2</td>\n",
       "        </tr>\n",
       "        <tr>\n",
       "            <td>IT/IS</td>\n",
       "            <td>medical issues</td>\n",
       "            <td>1</td>\n",
       "        </tr>\n",
       "        <tr>\n",
       "            <td>IT/IS</td>\n",
       "            <td>career change</td>\n",
       "            <td>1</td>\n",
       "        </tr>\n",
       "        <tr>\n",
       "            <td>IT/IS</td>\n",
       "            <td>Learned that he is a gangster</td>\n",
       "            <td>1</td>\n",
       "        </tr>\n",
       "        <tr>\n",
       "            <td>IT/IS</td>\n",
       "            <td>Another position</td>\n",
       "            <td>1</td>\n",
       "        </tr>\n",
       "        <tr>\n",
       "            <td>Production       </td>\n",
       "            <td>Another position</td>\n",
       "            <td>17</td>\n",
       "        </tr>\n",
       "        <tr>\n",
       "            <td>Production       </td>\n",
       "            <td>unhappy</td>\n",
       "            <td>14</td>\n",
       "        </tr>\n",
       "        <tr>\n",
       "            <td>Production       </td>\n",
       "            <td>more money</td>\n",
       "            <td>11</td>\n",
       "        </tr>\n",
       "        <tr>\n",
       "            <td>Production       </td>\n",
       "            <td>hours</td>\n",
       "            <td>6</td>\n",
       "        </tr>\n",
       "        <tr>\n",
       "            <td>Production       </td>\n",
       "            <td>career change</td>\n",
       "            <td>6</td>\n",
       "        </tr>\n",
       "        <tr>\n",
       "            <td>Production       </td>\n",
       "            <td>return to school</td>\n",
       "            <td>5</td>\n",
       "        </tr>\n",
       "        <tr>\n",
       "            <td>Production       </td>\n",
       "            <td>attendance</td>\n",
       "            <td>5</td>\n",
       "        </tr>\n",
       "        <tr>\n",
       "            <td>Production       </td>\n",
       "            <td>retiring</td>\n",
       "            <td>4</td>\n",
       "        </tr>\n",
       "        <tr>\n",
       "            <td>Production       </td>\n",
       "            <td>relocation out of area</td>\n",
       "            <td>4</td>\n",
       "        </tr>\n",
       "        <tr>\n",
       "            <td>Production       </td>\n",
       "            <td>military</td>\n",
       "            <td>4</td>\n",
       "        </tr>\n",
       "        <tr>\n",
       "            <td>Production       </td>\n",
       "            <td>performance</td>\n",
       "            <td>2</td>\n",
       "        </tr>\n",
       "        <tr>\n",
       "            <td>Production       </td>\n",
       "            <td>maternity leave - did not return</td>\n",
       "            <td>2</td>\n",
       "        </tr>\n",
       "        <tr>\n",
       "            <td>Production       </td>\n",
       "            <td>no-call, no-show</td>\n",
       "            <td>1</td>\n",
       "        </tr>\n",
       "        <tr>\n",
       "            <td>Production       </td>\n",
       "            <td>medical issues</td>\n",
       "            <td>1</td>\n",
       "        </tr>\n",
       "        <tr>\n",
       "            <td>Production       </td>\n",
       "            <td>gross misconduct</td>\n",
       "            <td>1</td>\n",
       "        </tr>\n",
       "        <tr>\n",
       "            <td>Sales</td>\n",
       "            <td>relocation out of area</td>\n",
       "            <td>1</td>\n",
       "        </tr>\n",
       "        <tr>\n",
       "            <td>Sales</td>\n",
       "            <td>maternity leave - did not return</td>\n",
       "            <td>1</td>\n",
       "        </tr>\n",
       "        <tr>\n",
       "            <td>Sales</td>\n",
       "            <td>attendance</td>\n",
       "            <td>1</td>\n",
       "        </tr>\n",
       "        <tr>\n",
       "            <td>Sales</td>\n",
       "            <td>Fatal attraction</td>\n",
       "            <td>1</td>\n",
       "        </tr>\n",
       "        <tr>\n",
       "            <td>Sales</td>\n",
       "            <td>Another position</td>\n",
       "            <td>1</td>\n",
       "        </tr>\n",
       "        <tr>\n",
       "            <td>Software Engineering</td>\n",
       "            <td>medical issues</td>\n",
       "            <td>1</td>\n",
       "        </tr>\n",
       "        <tr>\n",
       "            <td>Software Engineering</td>\n",
       "            <td>career change</td>\n",
       "            <td>1</td>\n",
       "        </tr>\n",
       "        <tr>\n",
       "            <td>Software Engineering</td>\n",
       "            <td>attendance</td>\n",
       "            <td>1</td>\n",
       "        </tr>\n",
       "        <tr>\n",
       "            <td>Software Engineering</td>\n",
       "            <td>Another position</td>\n",
       "            <td>1</td>\n",
       "        </tr>\n",
       "    </tbody>\n",
       "</table>"
      ],
      "text/plain": [
       "[('Admin Offices', 'no-call, no-show', 1),\n",
       " ('Admin Offices', 'career change', 1),\n",
       " ('IT/IS', 'performance', 2),\n",
       " ('IT/IS', 'no-call, no-show', 2),\n",
       " ('IT/IS', 'hours', 2),\n",
       " ('IT/IS', 'medical issues', 1),\n",
       " ('IT/IS', 'career change', 1),\n",
       " ('IT/IS', 'Learned that he is a gangster', 1),\n",
       " ('IT/IS', 'Another position', 1),\n",
       " ('Production       ', 'Another position', 17),\n",
       " ('Production       ', 'unhappy', 14),\n",
       " ('Production       ', 'more money', 11),\n",
       " ('Production       ', 'hours', 6),\n",
       " ('Production       ', 'career change', 6),\n",
       " ('Production       ', 'return to school', 5),\n",
       " ('Production       ', 'attendance', 5),\n",
       " ('Production       ', 'retiring', 4),\n",
       " ('Production       ', 'relocation out of area', 4),\n",
       " ('Production       ', 'military', 4),\n",
       " ('Production       ', 'performance', 2),\n",
       " ('Production       ', 'maternity leave - did not return', 2),\n",
       " ('Production       ', 'no-call, no-show', 1),\n",
       " ('Production       ', 'medical issues', 1),\n",
       " ('Production       ', 'gross misconduct', 1),\n",
       " ('Sales', 'relocation out of area', 1),\n",
       " ('Sales', 'maternity leave - did not return', 1),\n",
       " ('Sales', 'attendance', 1),\n",
       " ('Sales', 'Fatal attraction', 1),\n",
       " ('Sales', 'Another position', 1),\n",
       " ('Software Engineering', 'medical issues', 1),\n",
       " ('Software Engineering', 'career change', 1),\n",
       " ('Software Engineering', 'attendance', 1),\n",
       " ('Software Engineering', 'Another position', 1)]"
      ]
     },
     "execution_count": 159,
     "metadata": {},
     "output_type": "execute_result"
    }
   ],
   "source": [
    "%%sql\n",
    "SELECT Department, TermReason, COUNT(*) AS jumlah\n",
    "FROM employees\n",
    "WHERE Termd = 1\n",
    "GROUP BY Department, TermReason\n",
    "ORDER BY Department, jumlah DESC;"
   ]
  },
  {
   "cell_type": "markdown",
   "id": "75df66fe-9097-49bb-8538-043ddfc46344",
   "metadata": {},
   "source": [
    "### 5.7 Tren Tahunan Karyawan Masuk & Keluar"
   ]
  },
  {
   "cell_type": "code",
   "execution_count": 175,
   "id": "e80e17e6-a263-4a20-8e31-ce9ce52f265f",
   "metadata": {},
   "outputs": [
    {
     "name": "stdout",
     "output_type": "stream",
     "text": [
      " * sqlite:///hr_database.db\n",
      "Done.\n"
     ]
    },
    {
     "data": {
      "text/html": [
       "<table>\n",
       "    <thead>\n",
       "        <tr>\n",
       "            <th>tahun</th>\n",
       "            <th>jumlah_masuk</th>\n",
       "            <th>jumlah_keluar</th>\n",
       "        </tr>\n",
       "    </thead>\n",
       "    <tbody>\n",
       "        <tr>\n",
       "            <td>None</td>\n",
       "            <td>311</td>\n",
       "            <td>104</td>\n",
       "        </tr>\n",
       "    </tbody>\n",
       "</table>"
      ],
      "text/plain": [
       "[(None, 311, 104)]"
      ]
     },
     "execution_count": 175,
     "metadata": {},
     "output_type": "execute_result"
    }
   ],
   "source": [
    "%%sql\n",
    "SELECT \n",
    "    tahun,\n",
    "    SUM(jumlah_masuk) AS jumlah_masuk,\n",
    "    SUM(jumlah_keluar) AS jumlah_keluar\n",
    "FROM (\n",
    "    SELECT \n",
    "        strftime('%Y', DateofHire) AS tahun,\n",
    "        COUNT(*) AS jumlah_masuk,\n",
    "        0 AS jumlah_keluar\n",
    "    FROM employees\n",
    "    WHERE DateofHire IS NOT NULL\n",
    "    GROUP BY tahun\n",
    "\n",
    "    UNION ALL\n",
    "\n",
    "    SELECT \n",
    "        strftime('%Y', DateofTermination) AS tahun,\n",
    "        0 AS jumlah_masuk,\n",
    "        COUNT(*) AS jumlah_keluar\n",
    "    FROM employees\n",
    "    WHERE Termd = 1 AND DateofTermination IS NOT NULL\n",
    "    GROUP BY tahun\n",
    ")\n",
    "GROUP BY tahun\n",
    "ORDER BY tahun;"
   ]
  }
 ],
 "metadata": {
  "kernelspec": {
   "display_name": "Python 3 (ipykernel)",
   "language": "python",
   "name": "python3"
  },
  "language_info": {
   "codemirror_mode": {
    "name": "ipython",
    "version": 3
   },
   "file_extension": ".py",
   "mimetype": "text/x-python",
   "name": "python",
   "nbconvert_exporter": "python",
   "pygments_lexer": "ipython3",
   "version": "3.11.7"
  },
  "widgets": {
   "application/vnd.jupyter.widget-state+json": {
    "state": {},
    "version_major": 2,
    "version_minor": 0
   }
  }
 },
 "nbformat": 4,
 "nbformat_minor": 5
}
